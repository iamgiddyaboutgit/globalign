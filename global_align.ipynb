{
 "cells": [
  {
   "cell_type": "code",
   "execution_count": 1,
   "metadata": {},
   "outputs": [],
   "source": [
    "import global_align as ga"
   ]
  },
  {
   "cell_type": "code",
   "execution_count": 2,
   "metadata": {},
   "outputs": [
    {
     "data": {
      "text/plain": [
       "{'A': {'A': 1, 'C': 4, 'G': 4, 'T': 4, '-': 5},\n",
       " 'C': {'A': 4, 'C': 0, 'G': 4, 'T': 4, '-': 5},\n",
       " 'G': {'A': 4, 'C': 4, 'G': 2, 'T': 4, '-': 5},\n",
       " 'T': {'A': 4, 'C': 4, 'G': 4, 'T': 2, '-': 5},\n",
       " '-': {'A': 5, 'C': 5, 'G': 5, 'T': 5, '-': 2}}"
      ]
     },
     "execution_count": 2,
     "metadata": {},
     "output_type": "execute_result"
    }
   ],
   "source": [
    "gap_open_cost = 3\n",
    "gap_extension_cost = 2\n",
    "scoring_mat = {\n",
    "    \"A\": {\"A\": 2, \"C\": -1, \"G\": -1, \"T\": -1, \"-\": -gap_extension_cost},\n",
    "    \"C\": {\"A\": -1, \"C\": 3, \"G\": -1, \"T\": -1, \"-\": -gap_extension_cost},\n",
    "    \"G\": {\"A\": -1, \"C\": -1, \"G\": 1, \"T\": -1, \"-\": -gap_extension_cost},\n",
    "    \"T\": {\"A\": -1, \"C\": -1, \"G\": -1, \"T\": 1, \"-\": -gap_extension_cost},\n",
    "    \"-\": {\"A\": -gap_extension_cost, \"C\": -gap_extension_cost, \"G\": -gap_extension_cost, \"T\": -gap_extension_cost, \"-\": 1},\n",
    "}\n",
    "max_score = ga.get_max_similarity_score(scoring_mat=scoring_mat)\n",
    "cost_mat = ga.transform_scoring_mat_to_cost_mat(\n",
    "    scoring_mat=scoring_mat,\n",
    "    max_score=max_score\n",
    ")\n",
    "cost_mat"
   ]
  },
  {
   "cell_type": "code",
   "execution_count": 3,
   "metadata": {},
   "outputs": [
    {
     "name": "stdout",
     "output_type": "stream",
     "text": [
      "TAATTGA\n",
      "AAATTGAAT\n"
     ]
    }
   ],
   "source": [
    "seq_1, seq_2 = ga.draw_two_random_seqs(\n",
    "    alphabet=[\"A\", \"C\", 'G', \"T\"],\n",
    "    min_len_seq_1=7,\n",
    "    max_len_seq_1=7,\n",
    "    min_len_seq_2=8,\n",
    "    max_len_seq_2=9,\n",
    "    divergence=0.2\n",
    ")\n",
    "print(seq_1)\n",
    "print(seq_2)"
   ]
  },
  {
   "cell_type": "code",
   "execution_count": 4,
   "metadata": {},
   "outputs": [
    {
     "data": {
      "text/plain": [
       "[[2, 2, 2, 2, 2, 2, 2, 2, 2, 2],\n",
       " [4, 2, 2, 2, 2, 2, 2, 2, 2, 2],\n",
       " [4, 2, 2, 2, 2, 2, 2, 2, 2, 2],\n",
       " [4, 2, 2, 2, 2, 2, 2, 2, 2, 2],\n",
       " [4, 2, 2, 2, 2, 2, 2, 2, 2, 2]]"
      ]
     },
     "execution_count": 4,
     "metadata": {},
     "output_type": "execute_result"
    }
   ],
   "source": [
    "middle_row_index = 4\n",
    "best_paths_mat = ga.init_best_paths_matrix(\n",
    "    dynamic_prog_num_rows=middle_row_index + 1,\n",
    "    dynamic_prog_num_cols=len(seq_2) + 1\n",
    ")\n",
    "best_paths_mat"
   ]
  },
  {
   "cell_type": "code",
   "execution_count": 5,
   "metadata": {},
   "outputs": [
    {
     "data": {
      "text/plain": [
       "[[0, 8, 13, 18, 23, 28, 33, 38, 43, 48], [8, 0, 0, 0, 0, 0, 0, 0, 0, 0]]"
      ]
     },
     "execution_count": 5,
     "metadata": {},
     "output_type": "execute_result"
    }
   ],
   "source": [
    "dynamic_prog_num_cols = len(seq_2) + 1\n",
    "partial_dp_mat = ga.init_partial_dynamic_prog_matrix_2(\n",
    "    seq_1=seq_1,\n",
    "    seq_2=seq_2,\n",
    "    cost_mat=cost_mat,\n",
    "    gap_open_cost=gap_open_cost,\n",
    "    dynamic_prog_num_cols=dynamic_prog_num_cols\n",
    ")\n",
    "partial_dp_mat"
   ]
  },
  {
   "cell_type": "code",
   "execution_count": 6,
   "metadata": {},
   "outputs": [],
   "source": [
    "moves_for_gap_open_penalty_from_left = {0, 3, 4, 11, 12, 14}\n",
    "moves_for_gap_open_penalty_from_up = {0, 1, 2, 9, 10, 13}\n",
    "situation_mapper = {\n",
    "    # from_left_best_path_type == 1\n",
    "    # and from_up_best_path_type == 3\n",
    "    # 3-way ties\n",
    "    ((0, 0, 0), (1, 3)): 15,\n",
    "    # 2-way ties for low\n",
    "    ((0, 0, 2), (1, 3)): 3,\n",
    "    ((0, 2, 0), (1, 3)): 1,\n",
    "    ((2, 0, 0), (1, 3)): 0,\n",
    "    # 2-way ties for high\n",
    "    ((0, 1, 1), (1, 3)): 5,\n",
    "    ((1, 0, 1), (1, 3)): 11,\n",
    "    ((1, 1, 0), (1, 3)): 9,\n",
    "    # no ties\n",
    "    ((0, 1, 2), (1, 3)): 3,\n",
    "    # from_left_best_path_type == 1\n",
    "    # and from_up_best_path_type == 4\n",
    "    # 3-way ties\n",
    "    ((0, 0, 0), (1, 4)): 16,\n",
    "    # 2-way ties for low\n",
    "    ((0, 0, 2), (1, 4)): 4,\n",
    "    ((0, 2, 0), (1, 4)): 1,\n",
    "    ((2, 0, 0), (1, 4)): 0,\n",
    "    # 2-way ties for high\n",
    "    ((0, 1, 1), (1, 4)): 6,\n",
    "    ((1, 0, 1), (1, 4)): 12,\n",
    "    ((1, 1, 0), (1, 4)): 9,\n",
    "    # no ties\n",
    "    ((0, 1, 2), (1, 4)): 4,\n",
    "    # from_left_best_path_type == 2\n",
    "    # and from_up_best_path_type == 3\n",
    "    # 3-way ties\n",
    "    ((0, 0, 0), (2, 3)): 17,\n",
    "    # 2-way ties for low\n",
    "    ((0, 0, 2), (2, 3)): 3,\n",
    "    ((0, 2, 0), (2, 3)): 2,\n",
    "    ((2, 0, 0), (2, 3)): 0,\n",
    "    # 2-way ties for high\n",
    "    ((0, 1, 1), (2, 3)): 7,\n",
    "    ((1, 0, 1), (2, 3)): 11,\n",
    "    ((1, 1, 0), (2, 3)): 10,\n",
    "    # no ties\n",
    "    ((0, 1, 2), (2, 3)): 3,\n",
    "    # from_left_best_path_type == 2\n",
    "    # and from_up_best_path_type == 4\n",
    "    # 3-way ties\n",
    "    ((0, 0, 0), (2, 4)): 18,\n",
    "    # 2-way ties for low\n",
    "    ((0, 0, 2), (2, 4)): 4,\n",
    "    ((0, 2, 0), (2, 4)): 2,\n",
    "    ((2, 0, 0), (2, 4)): 0,\n",
    "    # 2-way ties for high\n",
    "    ((0, 1, 1), (2, 4)): 8,\n",
    "    ((1, 0, 1), (2, 4)): 12,\n",
    "    ((1, 1, 0), (2, 4)): 10,\n",
    "    # no ties\n",
    "    ((0, 1, 2), (2, 4)): 4\n",
    "}"
   ]
  },
  {
   "cell_type": "code",
   "execution_count": 7,
   "metadata": {},
   "outputs": [
    {
     "ename": "IndexError",
     "evalue": "string index out of range",
     "output_type": "error",
     "traceback": [
      "\u001b[0;31m---------------------------------------------------------------------------\u001b[0m",
      "\u001b[0;31mIndexError\u001b[0m                                Traceback (most recent call last)",
      "Cell \u001b[0;32mIn[7], line 1\u001b[0m\n\u001b[0;32m----> 1\u001b[0m \u001b[43mga\u001b[49m\u001b[38;5;241;43m.\u001b[39;49m\u001b[43mdo_core_align_2\u001b[49m\u001b[43m(\u001b[49m\n\u001b[1;32m      2\u001b[0m \u001b[43m    \u001b[49m\u001b[43mseq_1\u001b[49m\u001b[38;5;241;43m=\u001b[39;49m\u001b[43mseq_1\u001b[49m\u001b[43m,\u001b[49m\n\u001b[1;32m      3\u001b[0m \u001b[43m    \u001b[49m\u001b[43mseq_2\u001b[49m\u001b[38;5;241;43m=\u001b[39;49m\u001b[43mseq_2\u001b[49m\u001b[43m,\u001b[49m\n\u001b[1;32m      4\u001b[0m \u001b[43m    \u001b[49m\u001b[43mmiddle_row_index\u001b[49m\u001b[38;5;241;43m=\u001b[39;49m\u001b[38;5;241;43m4\u001b[39;49m\u001b[43m,\u001b[49m\n\u001b[1;32m      5\u001b[0m \u001b[43m    \u001b[49m\u001b[43mbest_paths_mat\u001b[49m\u001b[38;5;241;43m=\u001b[39;49m\u001b[43mbest_paths_mat\u001b[49m\u001b[43m,\u001b[49m\n\u001b[1;32m      6\u001b[0m \u001b[43m    \u001b[49m\u001b[43mpartial_dp_mat\u001b[49m\u001b[38;5;241;43m=\u001b[39;49m\u001b[43mpartial_dp_mat\u001b[49m\u001b[43m,\u001b[49m\n\u001b[1;32m      7\u001b[0m \u001b[43m    \u001b[49m\u001b[43mgap_open_cost\u001b[49m\u001b[38;5;241;43m=\u001b[39;49m\u001b[43mgap_open_cost\u001b[49m\u001b[43m,\u001b[49m\n\u001b[1;32m      8\u001b[0m \u001b[43m    \u001b[49m\u001b[43mgap_extension_cost\u001b[49m\u001b[38;5;241;43m=\u001b[39;49m\u001b[43mgap_extension_cost\u001b[49m\u001b[43m,\u001b[49m\n\u001b[1;32m      9\u001b[0m \u001b[43m    \u001b[49m\u001b[43mcost_mat\u001b[49m\u001b[38;5;241;43m=\u001b[39;49m\u001b[43mcost_mat\u001b[49m\u001b[43m,\u001b[49m\n\u001b[1;32m     10\u001b[0m \u001b[43m    \u001b[49m\u001b[43mmoves_for_gap_open_penalty_from_left\u001b[49m\u001b[38;5;241;43m=\u001b[39;49m\u001b[43mmoves_for_gap_open_penalty_from_left\u001b[49m\u001b[43m,\u001b[49m\n\u001b[1;32m     11\u001b[0m \u001b[43m    \u001b[49m\u001b[43mmoves_for_gap_open_penalty_from_up\u001b[49m\u001b[38;5;241;43m=\u001b[39;49m\u001b[43mmoves_for_gap_open_penalty_from_up\u001b[49m\u001b[43m,\u001b[49m\n\u001b[1;32m     12\u001b[0m \u001b[43m    \u001b[49m\u001b[43msituation_mapper\u001b[49m\u001b[38;5;241;43m=\u001b[39;49m\u001b[43msituation_mapper\u001b[49m\n\u001b[1;32m     13\u001b[0m \u001b[43m)\u001b[49m\n",
      "File \u001b[0;32m~/Documents/work/wyzant/omar_r_bioinf/omar_r_needleman_wunsch/global_align.py:1463\u001b[0m, in \u001b[0;36mdo_core_align_2\u001b[0;34m(seq_1, seq_2, middle_row_index, best_paths_mat, partial_dp_mat, gap_open_cost, gap_extension_cost, cost_mat, moves_for_gap_open_penalty_from_left, moves_for_gap_open_penalty_from_up, situation_mapper)\u001b[0m\n\u001b[1;32m   1461\u001b[0m best_paths_mat_cur_col_id \u001b[38;5;241m=\u001b[39m j\n\u001b[1;32m   1462\u001b[0m \u001b[38;5;66;03m# Loop body\u001b[39;00m\n\u001b[0;32m-> 1463\u001b[0m cur_cell_best_path_type, cur_cell_best_cum_cost \u001b[38;5;241m=\u001b[39m \u001b[43mfind_best_path\u001b[49m\u001b[43m(\u001b[49m\n\u001b[1;32m   1464\u001b[0m \u001b[43m    \u001b[49m\u001b[43mi\u001b[49m\u001b[38;5;241;43m=\u001b[39;49m\u001b[43mi\u001b[49m\u001b[43m,\u001b[49m\n\u001b[1;32m   1465\u001b[0m \u001b[43m    \u001b[49m\u001b[43mj\u001b[49m\u001b[38;5;241;43m=\u001b[39;49m\u001b[43mj\u001b[49m\u001b[43m,\u001b[49m\n\u001b[1;32m   1466\u001b[0m \u001b[43m    \u001b[49m\u001b[43mbest_paths_mat\u001b[49m\u001b[38;5;241;43m=\u001b[39;49m\u001b[43mbest_paths_mat\u001b[49m\u001b[43m,\u001b[49m\n\u001b[1;32m   1467\u001b[0m \u001b[43m    \u001b[49m\u001b[43mpartial_dp_mat\u001b[49m\u001b[38;5;241;43m=\u001b[39;49m\u001b[43mpartial_dp_mat\u001b[49m\u001b[43m,\u001b[49m\n\u001b[1;32m   1468\u001b[0m \u001b[43m    \u001b[49m\u001b[43mpartial_dp_mat_prev_row_id\u001b[49m\u001b[38;5;241;43m=\u001b[39;49m\u001b[43mpartial_dp_mat_prev_row_id\u001b[49m\u001b[43m,\u001b[49m\n\u001b[1;32m   1469\u001b[0m \u001b[43m    \u001b[49m\u001b[43mpartial_dp_mat_cur_row_id\u001b[49m\u001b[38;5;241;43m=\u001b[39;49m\u001b[43mpartial_dp_mat_cur_row_id\u001b[49m\u001b[43m,\u001b[49m\n\u001b[1;32m   1470\u001b[0m \u001b[43m    \u001b[49m\u001b[43mseq_1\u001b[49m\u001b[38;5;241;43m=\u001b[39;49m\u001b[43mseq_1\u001b[49m\u001b[43m,\u001b[49m\n\u001b[1;32m   1471\u001b[0m \u001b[43m    \u001b[49m\u001b[43mseq_2\u001b[49m\u001b[38;5;241;43m=\u001b[39;49m\u001b[43mseq_2\u001b[49m\u001b[43m,\u001b[49m\n\u001b[1;32m   1472\u001b[0m \u001b[43m    \u001b[49m\u001b[43mgap_open_cost\u001b[49m\u001b[38;5;241;43m=\u001b[39;49m\u001b[43mgap_open_cost\u001b[49m\u001b[43m,\u001b[49m\n\u001b[1;32m   1473\u001b[0m \u001b[43m    \u001b[49m\u001b[43mgap_extension_cost\u001b[49m\u001b[38;5;241;43m=\u001b[39;49m\u001b[43mgap_extension_cost\u001b[49m\u001b[43m,\u001b[49m\n\u001b[1;32m   1474\u001b[0m \u001b[43m    \u001b[49m\u001b[43mcost_mat\u001b[49m\u001b[38;5;241;43m=\u001b[39;49m\u001b[43mcost_mat\u001b[49m\u001b[43m,\u001b[49m\n\u001b[1;32m   1475\u001b[0m \u001b[43m    \u001b[49m\u001b[43mmoves_for_gap_open_penalty_from_left\u001b[49m\u001b[38;5;241;43m=\u001b[39;49m\u001b[43mmoves_for_gap_open_penalty_from_left\u001b[49m\u001b[43m,\u001b[49m\n\u001b[1;32m   1476\u001b[0m \u001b[43m    \u001b[49m\u001b[43mmoves_for_gap_open_penalty_from_up\u001b[49m\u001b[38;5;241;43m=\u001b[39;49m\u001b[43mmoves_for_gap_open_penalty_from_up\u001b[49m\u001b[43m,\u001b[49m\n\u001b[1;32m   1477\u001b[0m \u001b[43m    \u001b[49m\u001b[43msituation_mapper\u001b[49m\u001b[38;5;241;43m=\u001b[39;49m\u001b[43msituation_mapper\u001b[49m\n\u001b[1;32m   1478\u001b[0m \u001b[43m\u001b[49m\u001b[43m)\u001b[49m\n\u001b[1;32m   1480\u001b[0m \u001b[38;5;66;03m# Update best_paths_mat.\u001b[39;00m\n\u001b[1;32m   1481\u001b[0m best_paths_mat[best_paths_mat_cur_row_id][best_paths_mat_cur_col_id] \u001b[38;5;241m=\u001b[39m cur_cell_best_path_type\n",
      "File \u001b[0;32m~/Documents/work/wyzant/omar_r_bioinf/omar_r_needleman_wunsch/global_align.py:1112\u001b[0m, in \u001b[0;36mfind_best_path\u001b[0;34m(i, j, best_paths_mat, partial_dp_mat, partial_dp_mat_prev_row_id, partial_dp_mat_cur_row_id, seq_1, seq_2, gap_open_cost, gap_extension_cost, cost_mat, moves_for_gap_open_penalty_from_left, moves_for_gap_open_penalty_from_up, situation_mapper)\u001b[0m\n\u001b[1;32m   1110\u001b[0m \u001b[38;5;66;03m# diag_best_path_type = best_paths_mat[best_paths_mat_prev_row_id][best_paths_mat_prev_col_id]\u001b[39;00m\n\u001b[1;32m   1111\u001b[0m diag_best_cost \u001b[38;5;241m=\u001b[39m partial_dp_mat[partial_dp_mat_prev_row_id][partial_dp_mat_prev_col_id]\n\u001b[0;32m-> 1112\u001b[0m from_diag_best_cost \u001b[38;5;241m=\u001b[39m diag_best_cost \u001b[38;5;241m+\u001b[39m cost_mat[seq_1[i]][\u001b[43mseq_2\u001b[49m\u001b[43m[\u001b[49m\u001b[43mj\u001b[49m\u001b[43m]\u001b[49m]\n\u001b[1;32m   1113\u001b[0m \u001b[38;5;66;03m# from_diag_best_path_type is the path_type that we would\u001b[39;00m\n\u001b[1;32m   1114\u001b[0m \u001b[38;5;66;03m# have for the current cell if we accepted a match/mismatch\u001b[39;00m\n\u001b[1;32m   1115\u001b[0m \u001b[38;5;66;03m# (and there were no ties).\u001b[39;00m\n\u001b[1;32m   1116\u001b[0m \u001b[38;5;66;03m# from_diag_best_path_type = 0\u001b[39;00m\n\u001b[1;32m   1118\u001b[0m left_best_path_type \u001b[38;5;241m=\u001b[39m best_paths_mat[best_paths_mat_cur_row_id][best_paths_mat_prev_col_id]\n",
      "\u001b[0;31mIndexError\u001b[0m: string index out of range"
     ]
    }
   ],
   "source": [
    "ga.do_core_align_2(\n",
    "    seq_1=seq_1,\n",
    "    seq_2=seq_2,\n",
    "    middle_row_index=4,\n",
    "    best_paths_mat=best_paths_mat,\n",
    "    partial_dp_mat=partial_dp_mat,\n",
    "    gap_open_cost=gap_open_cost,\n",
    "    gap_extension_cost=gap_extension_cost,\n",
    "    cost_mat=cost_mat,\n",
    "    moves_for_gap_open_penalty_from_left=moves_for_gap_open_penalty_from_left,\n",
    "    moves_for_gap_open_penalty_from_up=moves_for_gap_open_penalty_from_up,\n",
    "    situation_mapper=situation_mapper\n",
    ")"
   ]
  },
  {
   "cell_type": "code",
   "execution_count": 6,
   "metadata": {},
   "outputs": [],
   "source": [
    "# seq_1 = \"CATGGG\"\n",
    "# seq_1 = \"C\"\n",
    "# seq_2 = \"ACTG\"\n",
    "# seq_2 = \"TATT\"\n",
    "# seq_1 = \"ACACAACTAGTGCTACGTAT\"\n",
    "# seq_2 = \"T\"\n",
    "# seq_1 = \"TC\"\n",
    "# seq_2 = \"T\"\n",
    "# seq_1 = \"GTCAGCAT\"\n",
    "# seq_2 = \"CTCTGAACACG\"\n",
    "# seq_1 = \"CGCCTC\"\n",
    "# seq_2 = \"GTCG\"\n",
    "# seq_1 = \"CGCCT\"\n",
    "# seq_2 = \"GTCG\"\n",
    "# seq_1 = \"CATGGG\"\n",
    "# seq_2 = \"ACTG\"\n",
    "dynamic_prog_num_rows = len(seq_1) + 1\n",
    "dynamic_prog_num_cols = len(seq_2) + 1"
   ]
  },
  {
   "cell_type": "code",
   "execution_count": null,
   "metadata": {},
   "outputs": [],
   "source": [
    "# partial_A_mat, partial_B_mat, partial_C_mat = (ga.init_partial_dynamic_prog_matrix(\n",
    "#     gap_existence_cost=gap_existence_cost,\n",
    "#     seq_1=seq_1,\n",
    "#     seq_2=seq_2,\n",
    "#     scoring_mat=scoring_mat,\n",
    "#     dynamic_prog_num_cols=dynamic_prog_num_cols\n",
    "# ) for u in range(3)) \n",
    "\n",
    "# best_paths_mat = ga.init_best_paths_matrix(\n",
    "#     dynamic_prog_num_rows=dynamic_prog_num_rows,\n",
    "#     dynamic_prog_num_cols=dynamic_prog_num_cols\n",
    "# )"
   ]
  },
  {
   "cell_type": "code",
   "execution_count": null,
   "metadata": {},
   "outputs": [],
   "source": [
    "# ga.do_core_align(\n",
    "#     seq_1=seq_1,\n",
    "#     seq_2=seq_2,\n",
    "#     scoring_mat=scoring_mat,\n",
    "#     gap_existence_cost=gap_existence_cost,\n",
    "#     dynamic_prog_num_rows=dynamic_prog_num_rows,\n",
    "#     dynamic_prog_num_cols=dynamic_prog_num_cols,\n",
    "#     partial_A_mat=partial_A_mat,\n",
    "#     partial_B_mat=partial_B_mat,\n",
    "#     partial_C_mat=partial_C_mat,\n",
    "#     best_paths_mat=best_paths_mat\n",
    "# )"
   ]
  },
  {
   "cell_type": "code",
   "execution_count": null,
   "metadata": {},
   "outputs": [],
   "source": [
    "# partial_A_mat, partial_B_mat, partial_C_mat, best_paths_mat, score = ga.warmup_align(\n",
    "#     seq_1=seq_1,\n",
    "#     seq_2=seq_2,\n",
    "#     scoring_mat=scoring_mat,\n",
    "#     gap_existence_cost=gap_existence_cost,\n",
    "#     dynamic_prog_num_cols=dynamic_prog_num_cols,\n",
    "#     partial_A_mat=partial_A_mat,\n",
    "#     partial_B_mat=partial_B_mat,\n",
    "#     partial_C_mat=partial_C_mat,\n",
    "#     best_paths_mat=best_paths_mat\n",
    "# )"
   ]
  },
  {
   "cell_type": "code",
   "execution_count": null,
   "metadata": {},
   "outputs": [],
   "source": [
    "# ga.traceback(\n",
    "#     best_paths_mat=best_paths_mat,\n",
    "#     seq_1=seq_1[0],\n",
    "#     seq_2=seq_2\n",
    "# )"
   ]
  },
  {
   "cell_type": "code",
   "execution_count": null,
   "metadata": {},
   "outputs": [],
   "source": [
    "alignment = ga.align(\n",
    "    seq_1=seq_1,\n",
    "    seq_2=seq_2,\n",
    "    scoring_mat=scoring_mat,\n",
    "    gap_existence_cost=gap_existence_cost\n",
    ")\n",
    "ga.print_alignment(\n",
    "    *alignment,\n",
    "    chars_per_line=70\n",
    ")"
   ]
  },
  {
   "cell_type": "code",
   "execution_count": 3,
   "metadata": {},
   "outputs": [
    {
     "data": {
      "text/plain": [
       "[[1, 1, 1, 1, 1],\n",
       " [2, 0, 1, 0, 0],\n",
       " [2, 0, 0, 1, 0],\n",
       " [2, 0, 0, 0, 1],\n",
       " [2, 2, 0, 0, 0],\n",
       " [2, 2, 0, 2, 0],\n",
       " [2, 2, 2, 0, 2]]"
      ]
     },
     "execution_count": 3,
     "metadata": {},
     "output_type": "execute_result"
    }
   ],
   "source": [
    "best_paths_mat = [[1, 1, 1, 1, 1], [2, 0, 1, 0, 0], [2, 0, 0, 1, 0], [2, 0, 0, 0, 1], [2, 2, 0, 0, 0], [2, 2, 0, 2, 0], [2, 2, 2, 0, 2]]\n",
    "best_paths_mat"
   ]
  },
  {
   "cell_type": "code",
   "execution_count": null,
   "metadata": {},
   "outputs": [],
   "source": [
    "alignment = ga.traceback(\n",
    "    best_paths_mat=best_paths_mat,\n",
    "    seq_1=seq_1,\n",
    "    seq_2=seq_2\n",
    ")\n",
    "ga.print_alignment(*alignment)"
   ]
  }
 ],
 "metadata": {
  "kernelspec": {
   "display_name": "omar_r_needleman_wunsch",
   "language": "python",
   "name": "python3"
  },
  "language_info": {
   "codemirror_mode": {
    "name": "ipython",
    "version": 3
   },
   "file_extension": ".py",
   "mimetype": "text/x-python",
   "name": "python",
   "nbconvert_exporter": "python",
   "pygments_lexer": "ipython3",
   "version": "3.11.3"
  }
 },
 "nbformat": 4,
 "nbformat_minor": 2
}
