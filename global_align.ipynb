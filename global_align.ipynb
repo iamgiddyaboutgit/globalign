{
 "cells": [
  {
   "cell_type": "code",
   "execution_count": 1,
   "metadata": {},
   "outputs": [],
   "source": [
    "import global_align as ga"
   ]
  },
  {
   "cell_type": "code",
   "execution_count": 15,
   "metadata": {},
   "outputs": [
    {
     "name": "stdout",
     "output_type": "stream",
     "text": [
      "CACCGGTGAGTTTCTCTGTCGTTCTCTGCTATTTCACAACAGTTTGTGAAGTGATGGTGAGGCTGGCTAC\n",
      "GTAATAACTCCACCGGTGAGTTTCTCTGTCGTTCTCTGCTATTTCACAACAGTTTGTGAAGTGATGGTGAGGCTGGCTACGATAGTT\n"
     ]
    }
   ],
   "source": [
    "seq_1, seq_2 = ga.draw_two_random_seqs(\n",
    "    alphabet=[\"A\", \"C\", 'G', \"T\"],\n",
    "    min_len_seq_1=70,\n",
    "    max_len_seq_1=70,\n",
    "    min_len_seq_2=80,\n",
    "    max_len_seq_2=90,\n",
    "    divergence=0\n",
    ")\n",
    "print(seq_1)\n",
    "print(seq_2)"
   ]
  },
  {
   "cell_type": "code",
   "execution_count": 2,
   "metadata": {},
   "outputs": [
    {
     "name": "stdout",
     "output_type": "stream",
     "text": [
      "GGCTAAAACCATTCCCCTGCGACTTATCTTTAAGCGAAATCTTCTTTAGACTGTGA\n",
      "TGACAAGATTGCGGACTACTCCGCAAGCCCCACATTTTATGTCAAGTCTTTGTCAACT\n"
     ]
    }
   ],
   "source": [
    "seq_1, seq_2 = (ga.draw_random_seq(\n",
    "    alphabet=[\"A\", \"C\", 'G', \"T\"],\n",
    "    min_len=4,\n",
    "    max_len=60\n",
    ") for i in range(2))\n",
    "print(seq_1)\n",
    "print(seq_2)\n",
    "gap_existence_cost = 5\n",
    "scoring_mat = {\n",
    "    \"A\": {\"A\": 1, \"C\": -1, \"G\": -1, \"T\": -1, \"-\": -2},\n",
    "    \"C\": {\"A\": -1, \"C\": 1, \"G\": -1, \"T\": -1, \"-\": -2},\n",
    "    \"G\": {\"A\": -1, \"C\": -1, \"G\": 1, \"T\": -1, \"-\": -2},\n",
    "    \"T\": {\"A\": -1, \"C\": -1, \"G\": -1, \"T\": 1, \"-\": -2},\n",
    "    \"-\": {\"A\": -2, \"C\": -2, \"G\": -2, \"T\": -2, \"-\": 1},\n",
    "}\n",
    "# seq_1 = \"CATGGG\"\n",
    "# seq_1 = \"C\"\n",
    "# seq_2 = \"ACTG\"\n",
    "# seq_2 = \"TATT\"\n",
    "# seq_1 = \"ACACAACTAGTGCTACGTAT\"\n",
    "# seq_2 = \"T\"\n",
    "# seq_1 = \"TC\"\n",
    "# seq_2 = \"T\"\n",
    "# seq_1 = \"GTCAGCAT\"\n",
    "# seq_2 = \"CTCTGAACACG\"\n",
    "# seq_1 = \"CGCCTC\"\n",
    "# seq_2 = \"GTCG\"\n",
    "# seq_1 = \"CGCCT\"\n",
    "# seq_2 = \"GTCG\"\n",
    "# seq_1 = \"CATGGG\"\n",
    "# seq_2 = \"ACTG\"\n",
    "dynamic_prog_num_rows = len(seq_1) + 1\n",
    "dynamic_prog_num_cols = len(seq_2) + 1"
   ]
  },
  {
   "cell_type": "code",
   "execution_count": 3,
   "metadata": {},
   "outputs": [
    {
     "data": {
      "text/plain": [
       "{'A': {'A': 0, 'C': -2, 'G': -2, 'T': -2, '-': -3},\n",
       " 'C': {'A': -2, 'C': 0, 'G': -2, 'T': -2, '-': -3},\n",
       " 'G': {'A': -2, 'C': -2, 'G': 0, 'T': -2, '-': -3},\n",
       " 'T': {'A': -2, 'C': -2, 'G': -2, 'T': 0, '-': -3},\n",
       " '-': {'A': -3, 'C': -3, 'G': -3, 'T': -3, '-': 0}}"
      ]
     },
     "execution_count": 3,
     "metadata": {},
     "output_type": "execute_result"
    }
   ],
   "source": [
    "max_score = ga.get_max_similarity_score(scoring_mat=scoring_mat)\n",
    "ga.transform_scoring_mat_to_cost_mat(\n",
    "    scoring_mat=scoring_mat,\n",
    "    max_score=max_score\n",
    ")"
   ]
  },
  {
   "cell_type": "code",
   "execution_count": 174,
   "metadata": {},
   "outputs": [],
   "source": [
    "# partial_A_mat, partial_B_mat, partial_C_mat = (ga.init_partial_dynamic_prog_matrix(\n",
    "#     gap_existence_cost=gap_existence_cost,\n",
    "#     seq_1=seq_1,\n",
    "#     seq_2=seq_2,\n",
    "#     scoring_mat=scoring_mat,\n",
    "#     dynamic_prog_num_cols=dynamic_prog_num_cols\n",
    "# ) for u in range(3)) \n",
    "\n",
    "# best_paths_mat = ga.init_best_paths_matrix(\n",
    "#     dynamic_prog_num_rows=dynamic_prog_num_rows,\n",
    "#     dynamic_prog_num_cols=dynamic_prog_num_cols\n",
    "# )"
   ]
  },
  {
   "cell_type": "code",
   "execution_count": 175,
   "metadata": {},
   "outputs": [],
   "source": [
    "# ga.do_core_align(\n",
    "#     seq_1=seq_1,\n",
    "#     seq_2=seq_2,\n",
    "#     scoring_mat=scoring_mat,\n",
    "#     gap_existence_cost=gap_existence_cost,\n",
    "#     dynamic_prog_num_rows=dynamic_prog_num_rows,\n",
    "#     dynamic_prog_num_cols=dynamic_prog_num_cols,\n",
    "#     partial_A_mat=partial_A_mat,\n",
    "#     partial_B_mat=partial_B_mat,\n",
    "#     partial_C_mat=partial_C_mat,\n",
    "#     best_paths_mat=best_paths_mat\n",
    "# )"
   ]
  },
  {
   "cell_type": "code",
   "execution_count": 176,
   "metadata": {},
   "outputs": [],
   "source": [
    "# partial_A_mat, partial_B_mat, partial_C_mat, best_paths_mat, score = ga.warmup_align(\n",
    "#     seq_1=seq_1,\n",
    "#     seq_2=seq_2,\n",
    "#     scoring_mat=scoring_mat,\n",
    "#     gap_existence_cost=gap_existence_cost,\n",
    "#     dynamic_prog_num_cols=dynamic_prog_num_cols,\n",
    "#     partial_A_mat=partial_A_mat,\n",
    "#     partial_B_mat=partial_B_mat,\n",
    "#     partial_C_mat=partial_C_mat,\n",
    "#     best_paths_mat=best_paths_mat\n",
    "# )"
   ]
  },
  {
   "cell_type": "code",
   "execution_count": 177,
   "metadata": {},
   "outputs": [],
   "source": [
    "# ga.traceback(\n",
    "#     best_paths_mat=best_paths_mat,\n",
    "#     seq_1=seq_1[0],\n",
    "#     seq_2=seq_2\n",
    "# )"
   ]
  },
  {
   "cell_type": "code",
   "execution_count": 178,
   "metadata": {},
   "outputs": [
    {
     "name": "stdout",
     "output_type": "stream",
     "text": [
      "in align LINE 350\n",
      "D_mat\n",
      "[[0, -7, -9, -11, -13], [-7, -1, -8, -8, -12], [-9, -6, -2, -9, -7], [-11, -10, -7, -1, -8], [-13, -12, -11, -6, -2], [-15, -14, -11, -10, -7], [-17, -16, -15, -10, -11]]\n",
      "partial_A_mat\n",
      "[[-17, -16, -15, -10, -11], [-15, -14, -11, -12, -7]]\n",
      "partial_B_mat\n",
      "[[-17, -24, -23, -22, -17], [-15, -22, -21, -18, -17]]\n",
      "partial_C_mat\n",
      "[[-17, -16, -15, -12, -11], [-15, -14, -13, -10, -9]]\n",
      "best_paths_mat before traceback\n",
      "[[1, 1, 1, 1, 1], [2, 0, 1, 0, 0], [2, 0, 0, 1, 0], [2, 0, 0, 0, 1], [2, 2, 0, 0, 0], [2, 2, 0, 2, 0], [2, 2, 2, 0, 2]]\n",
      "seq_1\n",
      "seq_2\n",
      "\n",
      "CGCCTC\n",
      " |*|* \n",
      "-GTCG-\n",
      "\n",
      "score=-11\n"
     ]
    }
   ],
   "source": [
    "alignment = ga.align(\n",
    "    seq_1=seq_1,\n",
    "    seq_2=seq_2,\n",
    "    scoring_mat=scoring_mat,\n",
    "    gap_existence_cost=gap_existence_cost\n",
    ")\n",
    "ga.print_alignment(\n",
    "    *alignment,\n",
    "    chars_per_line=70\n",
    ")"
   ]
  },
  {
   "cell_type": "code",
   "execution_count": 181,
   "metadata": {},
   "outputs": [
    {
     "data": {
      "text/plain": [
       "[[1, 1, 1, 1, 1],\n",
       " [2, 0, 1, 0, 0],\n",
       " [2, 0, 0, 1, 0],\n",
       " [2, 0, 0, 0, 1],\n",
       " [2, 2, 0, 0, 0],\n",
       " [2, 2, 0, 2, 0],\n",
       " [2, 2, 2, 0, 2]]"
      ]
     },
     "execution_count": 181,
     "metadata": {},
     "output_type": "execute_result"
    }
   ],
   "source": [
    "best_paths_mat = [[1, 1, 1, 1, 1], [2, 0, 1, 0, 0], [2, 0, 0, 1, 0], [2, 0, 0, 0, 1], [2, 2, 0, 0, 0], [2, 2, 0, 2, 0], [2, 2, 2, 0, 2]]\n",
    "best_paths_mat"
   ]
  },
  {
   "cell_type": "code",
   "execution_count": 180,
   "metadata": {},
   "outputs": [
    {
     "name": "stdout",
     "output_type": "stream",
     "text": [
      "seq_1\n",
      "seq_2\n",
      "\n",
      "CGCCTC\n",
      " |*| *\n",
      "-GTC-G\n",
      "\n",
      "score=nan\n"
     ]
    }
   ],
   "source": [
    "alignment = ga.traceback(\n",
    "    best_paths_mat=best_paths_mat,\n",
    "    seq_1=seq_1,\n",
    "    seq_2=seq_2\n",
    ")\n",
    "ga.print_alignment(*alignment)"
   ]
  }
 ],
 "metadata": {
  "kernelspec": {
   "display_name": "omar_r_needleman_wunsch",
   "language": "python",
   "name": "python3"
  },
  "language_info": {
   "codemirror_mode": {
    "name": "ipython",
    "version": 3
   },
   "file_extension": ".py",
   "mimetype": "text/x-python",
   "name": "python",
   "nbconvert_exporter": "python",
   "pygments_lexer": "ipython3",
   "version": "3.11.3"
  }
 },
 "nbformat": 4,
 "nbformat_minor": 2
}
