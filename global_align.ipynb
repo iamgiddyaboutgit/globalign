{
 "cells": [
  {
   "cell_type": "code",
   "execution_count": 1,
   "metadata": {},
   "outputs": [],
   "source": [
    "import global_align as ga"
   ]
  },
  {
   "cell_type": "code",
   "execution_count": 2,
   "metadata": {},
   "outputs": [
    {
     "name": "stdout",
     "output_type": "stream",
     "text": [
      "CGCG\n",
      "C\n"
     ]
    }
   ],
   "source": [
    "seq_1, seq_2 = (ga.draw_random_seq(\n",
    "    alphabet=[\"A\", \"C\", 'G', \"T\"],\n",
    "    min_len=1,\n",
    "    max_len=7\n",
    ") for i in range(2))\n",
    "print(seq_1)\n",
    "print(seq_2)"
   ]
  },
  {
   "cell_type": "code",
   "execution_count": 3,
   "metadata": {},
   "outputs": [],
   "source": [
    "gap_existence_cost = 5\n",
    "scoring_mat = {\n",
    "    \"A\": {\"A\": 1, \"C\": -1, \"G\": -1, \"T\": -1, \"-\": -2},\n",
    "    \"C\": {\"A\": -1, \"C\": 1, \"G\": -1, \"T\": -1, \"-\": -2},\n",
    "    \"G\": {\"A\": -1, \"C\": -1, \"G\": 1, \"T\": -1, \"-\": -2},\n",
    "    \"T\": {\"A\": -1, \"C\": -1, \"G\": -1, \"T\": 1, \"-\": -2},\n",
    "    \"-\": {\"A\": -2, \"C\": -2, \"G\": -2, \"T\": -2, \"-\": 1},\n",
    "}\n",
    "# seq_1 = \"CATGGG\"\n",
    "seq_1 = \"C\"\n",
    "seq_2 = \"ACTG\"\n",
    "# seq_2 = \"TATT\"\n",
    "dynamic_prog_num_rows = len(seq_1) + 1\n",
    "dynamic_prog_num_cols = len(seq_2) + 1"
   ]
  },
  {
   "cell_type": "code",
   "execution_count": 4,
   "metadata": {},
   "outputs": [],
   "source": [
    "partial_A_mat, partial_B_mat, partial_C_mat = (ga.init_partial_dynamic_prog_matrix(\n",
    "    gap_existence_cost=gap_existence_cost,\n",
    "    seq_1=seq_1,\n",
    "    seq_2=seq_2,\n",
    "    scoring_mat=scoring_mat,\n",
    "    dynamic_prog_num_cols=dynamic_prog_num_cols\n",
    ") for u in range(3)) \n",
    "\n",
    "best_paths_mat = ga.init_best_paths_matrix(\n",
    "    dynamic_prog_num_rows=dynamic_prog_num_rows,\n",
    "    dynamic_prog_num_cols=dynamic_prog_num_cols\n",
    ")"
   ]
  },
  {
   "cell_type": "code",
   "execution_count": 5,
   "metadata": {},
   "outputs": [
    {
     "data": {
      "text/plain": [
       "([[0, -7, -9, -11, -13], [-7, 0, 0, 0, 0]],\n",
       " [[0, -7, -9, -11, -13], [-7, 0, 0, 0, 0]],\n",
       " [[0, -7, -9, -11, -13], [-7, 0, 0, 0, 0]],\n",
       " [[1, 1, 1, 1, 1], [2, 1, 1, 1, 1]],\n",
       " 1)"
      ]
     },
     "execution_count": 5,
     "metadata": {},
     "output_type": "execute_result"
    }
   ],
   "source": [
    "ga.do_core_align(\n",
    "    seq_1=seq_1,\n",
    "    seq_2=seq_2,\n",
    "    scoring_mat=scoring_mat,\n",
    "    gap_existence_cost=gap_existence_cost,\n",
    "    dynamic_prog_num_rows=dynamic_prog_num_rows,\n",
    "    dynamic_prog_num_cols=dynamic_prog_num_cols,\n",
    "    partial_A_mat=partial_A_mat,\n",
    "    partial_B_mat=partial_B_mat,\n",
    "    partial_C_mat=partial_C_mat,\n",
    "    best_paths_mat=best_paths_mat\n",
    ")"
   ]
  },
  {
   "cell_type": "code",
   "execution_count": 6,
   "metadata": {},
   "outputs": [
    {
     "data": {
      "text/plain": [
       "[[1, 1, 1, 1, 1], [2, 1, 1, 1, 1]]"
      ]
     },
     "execution_count": 6,
     "metadata": {},
     "output_type": "execute_result"
    }
   ],
   "source": [
    "best_paths_mat"
   ]
  },
  {
   "cell_type": "code",
   "execution_count": 7,
   "metadata": {},
   "outputs": [],
   "source": [
    "partial_A_mat, partial_B_mat, partial_C_mat, best_paths_mat, score = ga.warmup_align(\n",
    "    seq_1=seq_1,\n",
    "    seq_2=seq_2,\n",
    "    scoring_mat=scoring_mat,\n",
    "    gap_existence_cost=gap_existence_cost,\n",
    "    dynamic_prog_num_cols=dynamic_prog_num_cols,\n",
    "    partial_A_mat=partial_A_mat,\n",
    "    partial_B_mat=partial_B_mat,\n",
    "    partial_C_mat=partial_C_mat,\n",
    "    best_paths_mat=best_paths_mat\n",
    ")"
   ]
  },
  {
   "cell_type": "code",
   "execution_count": 8,
   "metadata": {},
   "outputs": [
    {
     "data": {
      "text/plain": [
       "[[0, -7, -9, -11, -13], [-7, -1, -6, -10, -12]]"
      ]
     },
     "execution_count": 8,
     "metadata": {},
     "output_type": "execute_result"
    }
   ],
   "source": [
    "partial_A_mat"
   ]
  },
  {
   "cell_type": "code",
   "execution_count": 9,
   "metadata": {},
   "outputs": [
    {
     "data": {
      "text/plain": [
       "[[1, 1, 1, 1, 1], [2, 0, 0, 0, 0]]"
      ]
     },
     "execution_count": 9,
     "metadata": {},
     "output_type": "execute_result"
    }
   ],
   "source": [
    "best_paths_mat"
   ]
  },
  {
   "cell_type": "code",
   "execution_count": 10,
   "metadata": {},
   "outputs": [
    {
     "data": {
      "text/plain": [
       "-12"
      ]
     },
     "execution_count": 10,
     "metadata": {},
     "output_type": "execute_result"
    }
   ],
   "source": [
    "score"
   ]
  },
  {
   "cell_type": "code",
   "execution_count": 11,
   "metadata": {},
   "outputs": [
    {
     "name": "stdout",
     "output_type": "stream",
     "text": [
      "0\n",
      "1\n",
      "1\n",
      "1\n"
     ]
    },
    {
     "data": {
      "text/plain": [
       "('---C', '   *', 'ACTG')"
      ]
     },
     "execution_count": 11,
     "metadata": {},
     "output_type": "execute_result"
    }
   ],
   "source": [
    "ga.traceback(\n",
    "    best_paths_mat=best_paths_mat,\n",
    "    seq_1=seq_1[0],\n",
    "    seq_2=seq_2\n",
    ")"
   ]
  },
  {
   "cell_type": "code",
   "execution_count": 12,
   "metadata": {},
   "outputs": [
    {
     "name": "stdout",
     "output_type": "stream",
     "text": [
      "beginning partial matrices\n",
      "[[0, -7, -9, -11, -13], [-7, 0, 0, 0, 0]]\n",
      "Before going to the index=2 row of the dynamic programming matrix ensemble, we have:\n",
      "partial_A_mat\n",
      "[[0, -7, -9, -11, -13], [-7, -1, -6, -10, -12]]\n",
      "partial_B_mat\n",
      "[[0, -7, -9, -11, -13], [-7, -9, -8, -10, -12]]\n",
      "partial_C_mat\n",
      "[[0, -7, -9, -11, -13], [-7, -9, -11, -13, -15]]\n",
      "best_paths_mat\n",
      "[[1, 1, 1, 1, 1], [2, 0, 0, 0, 0]]\n",
      "0\n",
      "1\n",
      "1\n",
      "1\n",
      "seq_1\n",
      "seq_2\n",
      "\n",
      "---C\n",
      "   *\n",
      "ACTG\n",
      "\n",
      "score=-12\n"
     ]
    }
   ],
   "source": [
    "alignment = ga.align(\n",
    "    seq_1=seq_1,\n",
    "    seq_2=seq_2,\n",
    "    scoring_mat=scoring_mat,\n",
    "    gap_existence_cost=gap_existence_cost\n",
    ")\n",
    "ga.print_alignment(\n",
    "    *alignment,\n",
    "    chars_per_line=70\n",
    ")"
   ]
  },
  {
   "cell_type": "code",
   "execution_count": 13,
   "metadata": {},
   "outputs": [
    {
     "data": {
      "text/plain": [
       "[[1, 1, 1, 1, 1],\n",
       " [2, 0, 0, 0, 0],\n",
       " [2, 0, 0, 0, 0],\n",
       " [2, 0, 0, 0, 0],\n",
       " [2, 0, 0, 0, 0],\n",
       " [2, 0, 0, 2, 0],\n",
       " [2, 0, 0, 2, 0]]"
      ]
     },
     "execution_count": 13,
     "metadata": {},
     "output_type": "execute_result"
    }
   ],
   "source": [
    "best_paths_mat = [[1, 1, 1, 1, 1], [2, 0, 0, 0, 0], [2, 0, 0, 0, 0], [2, 0, 0, 0, 0], [2, 0, 0, 0, 0], [2, 0, 0, 2, 0], [2, 0, 0, 2, 0]]\n",
    "best_paths_mat"
   ]
  },
  {
   "cell_type": "code",
   "execution_count": 14,
   "metadata": {},
   "outputs": [
    {
     "name": "stdout",
     "output_type": "stream",
     "text": [
      "0\n",
      "1\n",
      "1\n",
      "1\n",
      "seq_1\n",
      "seq_2\n",
      "\n",
      "---C\n",
      "   *\n",
      "ACTG\n",
      "\n",
      "score=nan\n"
     ]
    }
   ],
   "source": [
    "alignment = ga.traceback(\n",
    "    best_paths_mat=best_paths_mat,\n",
    "    seq_1=seq_1,\n",
    "    seq_2=seq_2\n",
    ")\n",
    "ga.print_alignment(*alignment)"
   ]
  }
 ],
 "metadata": {
  "kernelspec": {
   "display_name": "omar_r_needleman_wunsch",
   "language": "python",
   "name": "python3"
  },
  "language_info": {
   "codemirror_mode": {
    "name": "ipython",
    "version": 3
   },
   "file_extension": ".py",
   "mimetype": "text/x-python",
   "name": "python",
   "nbconvert_exporter": "python",
   "pygments_lexer": "ipython3",
   "version": "3.11.3"
  }
 },
 "nbformat": 4,
 "nbformat_minor": 2
}
