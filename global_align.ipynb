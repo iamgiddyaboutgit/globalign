{
 "cells": [
  {
   "cell_type": "code",
   "execution_count": null,
   "metadata": {},
   "outputs": [],
   "source": [
    "import global_align as ga"
   ]
  },
  {
   "cell_type": "code",
   "execution_count": null,
   "metadata": {},
   "outputs": [],
   "source": [
    "def get_gap_penalty(gap_existence_cost:int, gap_extension_cost:int, gap_length:int) -> int:\n",
    "    \"\"\"Get the cost for a single gap in the alignment.\n",
    "    \n",
    "    Note that the gap_extension_cost only factors into the total gap\n",
    "    penalty when gap_length > 1.\n",
    "\n",
    "    https://en.wikipedia.org/wiki/Gap_penalty#Affine\n",
    "\n",
    "    Args:\n",
    "        gap_existence_cost: gap_existence_cost >= 0\n",
    "        gap_extension_cost: gap_extension_cost >= 0\n",
    "        gap_length: Includes the current gap. gap_length >= 1.\n",
    "    \"\"\"\n",
    "    return gap_existence_cost + gap_extension_cost * (gap_length - 1)"
   ]
  },
  {
   "cell_type": "code",
   "execution_count": null,
   "metadata": {},
   "outputs": [],
   "source": [
    "get_gap_penalty(\n",
    "    gap_existence_cost=2,\n",
    "    gap_extension_cost=1,\n",
    "    gap_length=2\n",
    ")"
   ]
  },
  {
   "cell_type": "code",
   "execution_count": 1,
   "metadata": {},
   "outputs": [],
   "source": [
    "GAP_SCORE = -2 \n",
    "GAP_EXISTENCE_COST = 0\n",
    "scoring_mat = {\n",
    "    \"A\": {\"A\": 1, \"C\": -1, \"G\": -1, \"T\": -1, \"-\": -2},\n",
    "    \"C\": {\"A\": -1, \"C\": 1, \"G\": -1, \"T\": -1, \"-\": -2},\n",
    "    \"G\": {\"A\": -1, \"C\": -1, \"G\": 1, \"T\": -1, \"-\": -2},\n",
    "    \"T\": {\"A\": -1, \"C\": -1, \"G\": -1, \"T\": 1, \"-\": -2},\n",
    "    \"-\": {\"A\": -2, \"C\": -2, \"G\": -2, \"T\": -2, \"-\": -2},\n",
    "}"
   ]
  },
  {
   "cell_type": "code",
   "execution_count": 2,
   "metadata": {},
   "outputs": [
    {
     "data": {
      "text/plain": [
       "1"
      ]
     },
     "execution_count": 2,
     "metadata": {},
     "output_type": "execute_result"
    }
   ],
   "source": [
    "scoring_mat[\"C\"][\"C\"]"
   ]
  },
  {
   "cell_type": "code",
   "execution_count": 3,
   "metadata": {},
   "outputs": [],
   "source": [
    "seq_1 = \"CCTTATCGTAC\"\n",
    "seq_2 = \"GGAGCTATGGCCTC\"\n",
    "\n",
    "# 0: gap in seq_1\n",
    "# 1: gap in seq_2\n",
    "# 2: match/mismatch"
   ]
  },
  {
   "cell_type": "code",
   "execution_count": 4,
   "metadata": {},
   "outputs": [],
   "source": [
    "m = len(seq_1)\n",
    "n = len(seq_2)\n",
    "F_mat_num_rows = m + 1\n",
    "F_mat_num_cols = n + 1"
   ]
  },
  {
   "cell_type": "code",
   "execution_count": 5,
   "metadata": {},
   "outputs": [
    {
     "data": {
      "text/plain": [
       "[[0, 0, 0, 0, 0, 0, 0, 0, 0, 0, 0, 0, 0, 0, 0],\n",
       " [0, 0, 0, 0, 0, 0, 0, 0, 0, 0, 0, 0, 0, 0, 0]]"
      ]
     },
     "execution_count": 5,
     "metadata": {},
     "output_type": "execute_result"
    }
   ],
   "source": [
    "# https://www.freecodecamp.org/news/list-within-a-list-in-python-initialize-a-nested-list/\n",
    "partial_F_mat = [\n",
    "    [0]*(F_mat_num_cols) for i in range(2)\n",
    "]\n",
    "partial_F_mat"
   ]
  },
  {
   "cell_type": "markdown",
   "metadata": {},
   "source": [
    "We can go one row at a time through the F_mat (starting at row index 1, col index 1 and always skipping col index 0).  Simultaneously, fill out the best_paths_mat.  (Note that we need to save the entirety of the best_paths_mat.)  We only need to keep the col 0 of the F_mat and two rows in memory at a time."
   ]
  },
  {
   "cell_type": "code",
   "execution_count": 6,
   "metadata": {},
   "outputs": [
    {
     "data": {
      "text/plain": [
       "[[0, -2, -4, -6, -8, -10, -12, -14, -16, -18, -20, -22, -24, -26, -28],\n",
       " [0, 0, 0, 0, 0, 0, 0, 0, 0, 0, 0, 0, 0, 0, 0]]"
      ]
     },
     "execution_count": 6,
     "metadata": {},
     "output_type": "execute_result"
    }
   ],
   "source": [
    "# Take care of initialization with gap scores.\n",
    "# Loop prep\n",
    "j = 1\n",
    "gap_score_cum_sum = 0\n",
    "\n",
    "seq_2_index = j - 1\n",
    "cur_gap_score = -GAP_EXISTENCE_COST + scoring_mat[\"-\"][seq_2[seq_2_index]]\n",
    "partial_F_mat[0][j] = cur_gap_score\n",
    "\n",
    "for j in range(2, F_mat_num_cols):\n",
    "    # Prep for this iteration\n",
    "    seq_2_index = j - 1\n",
    "    gap_score_cum_sum += cur_gap_score\n",
    "\n",
    "    # body of loop\n",
    "    cur_gap_score = cur_gap_score + scoring_mat[\"-\"][seq_2[seq_2_index]]\n",
    "    partial_F_mat[0][j] = cur_gap_score\n",
    "\n",
    "partial_F_mat"
   ]
  },
  {
   "cell_type": "code",
   "execution_count": null,
   "metadata": {},
   "outputs": [],
   "source": [
    "# Take care of initialization with gap scores.\n",
    "# Loop prep\n",
    "gap_length_cum_sum = 0\n",
    "# gap_score_cum_sum = 0\n",
    "\n",
    "if GAP_EXTENSION_COST == 0:\n",
    "    modified_gap_ext_cost = 1\n",
    "\n",
    "for j in range(1, F_mat_num_cols):\n",
    "    # Prep for this iteration\n",
    "    seq_2_index = j - 1\n",
    "    gap_length_cum_sum += 1\n",
    "    # prev_gap_score = partial_F_mat[0][j - 1]\n",
    "    # print(\"gap_score_cum_sum\")\n",
    "    # print(gap_score_cum_sum)\n",
    "\n",
    "    # loop body\n",
    "    current_gap_penalty = get_gap_penalty(\n",
    "        gap_existence_cost=-scoring_mat[\"-\"][seq_2[seq_2_index]],\n",
    "        gap_extension_cost=modified_gap_ext_cost,\n",
    "        gap_length=gap_length_cum_sum\n",
    "    )\n",
    "    # print(\"current_gap_penalty\")\n",
    "    # print(current_gap_penalty)\n",
    "    partial_F_mat[0][j] = - current_gap_penalty\n",
    "\n",
    "partial_F_mat"
   ]
  },
  {
   "cell_type": "code",
   "execution_count": null,
   "metadata": {},
   "outputs": [],
   "source": [
    "get_gap_penalty(\n",
    "    gap_existence_cost=scoring_mat[\"-\"][seq_2[seq_2_index]],\n",
    "    gap_extension_cost=GAP_EXTENSION_COST,\n",
    "    gap_length=50\n",
    ")"
   ]
  },
  {
   "cell_type": "code",
   "execution_count": null,
   "metadata": {},
   "outputs": [],
   "source": [
    "partial_F_mat[0] = [GAP_SCORE*x for x in range(F_mat_num_cols)]\n",
    "partial_F_mat"
   ]
  },
  {
   "cell_type": "code",
   "execution_count": null,
   "metadata": {},
   "outputs": [],
   "source": [
    "partial_F_mat[1][0] = GAP_SCORE\n",
    "\n",
    "partial_F_mat"
   ]
  },
  {
   "cell_type": "code",
   "execution_count": null,
   "metadata": {},
   "outputs": [],
   "source": [
    "best_paths_mat_num_rows = F_mat_num_rows\n",
    "best_paths_mat_num_cols = F_mat_num_cols\n",
    "best_paths_mat = [[0]*best_paths_mat_num_cols for i in range(best_paths_mat_num_rows)]\n",
    "\n",
    "# Get 1's in the beginning of each row.\n",
    "for i in range(1, best_paths_mat_num_rows):\n",
    "    best_paths_mat[i][0] = 1\n",
    "\n",
    "best_paths_mat"
   ]
  },
  {
   "cell_type": "code",
   "execution_count": null,
   "metadata": {},
   "outputs": [],
   "source": [
    "# Pre loop\n",
    "i = 1\n",
    "partial_F_mat_prev_row_id = 0\n",
    "partial_F_mat_cur_row_id = 1\n",
    "\n",
    "for j in range(1, F_mat_num_cols):\n",
    "    seq_1_index = i - 1\n",
    "    seq_2_index = j - 1\n",
    "\n",
    "    score_for_path_a = partial_F_mat[partial_F_mat_cur_row_id][j - 1]\n",
    "    score_for_path_b = partial_F_mat[partial_F_mat_prev_row_id][j]\n",
    "    score_for_path_c = partial_F_mat[partial_F_mat_prev_row_id][j - 1]\n",
    "\n",
    "    score_for_gap_in_seq_1 = score_for_path_a + GAP_SCORE\n",
    "    score_for_gap_in_seq_2 = score_for_path_b + GAP_SCORE\n",
    "    score_for_match_mismatch = score_for_path_c + scoring_mat[seq_1[seq_1_index]][seq_2[seq_2_index]]\n",
    "    \n",
    "    possible_new_scores = [score_for_gap_in_seq_1, score_for_gap_in_seq_2, score_for_match_mismatch]\n",
    "    max_possible_new_score = max(possible_new_scores)\n",
    "    \n",
    "    partial_F_mat[partial_F_mat_cur_row_id][j] = max_possible_new_score\n",
    "    best_type_of_path = possible_new_scores.index(max_possible_new_score)\n",
    "    # print(f\"i: {i}      j: {j}\")\n",
    "    best_paths_mat[i][j] = best_type_of_path\n"
   ]
  },
  {
   "cell_type": "code",
   "execution_count": null,
   "metadata": {},
   "outputs": [],
   "source": [
    "partial_F_mat"
   ]
  },
  {
   "cell_type": "code",
   "execution_count": null,
   "metadata": {},
   "outputs": [],
   "source": [
    "for i in range(2, F_mat_num_rows):\n",
    "    # Prep for a new row iteration.\n",
    "    # https://stackoverflow.com/a/14836456\n",
    "    # Do some swapping. \n",
    "    partial_F_mat_prev_row_id, partial_F_mat_cur_row_id = partial_F_mat_cur_row_id, partial_F_mat_prev_row_id\n",
    "    # Update the 0th column based on how gaps are penalized.\n",
    "    partial_F_mat[partial_F_mat_cur_row_id][0] = GAP_SCORE*i\n",
    "    \n",
    "    for j in range(1, F_mat_num_cols):\n",
    "        seq_1_index = i - 1\n",
    "        seq_2_index = j - 1\n",
    "\n",
    "        score_for_path_a = partial_F_mat[partial_F_mat_cur_row_id][j - 1]\n",
    "        score_for_path_b = partial_F_mat[partial_F_mat_prev_row_id][j]\n",
    "        score_for_path_c = partial_F_mat[partial_F_mat_prev_row_id][j - 1]\n",
    "\n",
    "        score_for_gap_in_seq_1 = score_for_path_a + GAP_SCORE\n",
    "        score_for_gap_in_seq_2 = score_for_path_b + GAP_SCORE\n",
    "        score_for_match_mismatch = score_for_path_c + scoring_mat[seq_1[seq_1_index]][seq_2[seq_2_index]]\n",
    "        \n",
    "        possible_new_scores = [score_for_gap_in_seq_1, score_for_gap_in_seq_2, score_for_match_mismatch]\n",
    "        max_possible_new_score = max(possible_new_scores)\n",
    "        \n",
    "        partial_F_mat[partial_F_mat_cur_row_id][j] = max_possible_new_score\n",
    "        best_type_of_path = possible_new_scores.index(max_possible_new_score)\n",
    "        # print(f\"i: {i}      j: {j}\")\n",
    "        best_paths_mat[i][j] = best_type_of_path"
   ]
  },
  {
   "cell_type": "code",
   "execution_count": null,
   "metadata": {},
   "outputs": [],
   "source": [
    "score = max_possible_new_score\n",
    "score"
   ]
  },
  {
   "cell_type": "code",
   "execution_count": null,
   "metadata": {},
   "outputs": [],
   "source": [
    "partial_F_mat"
   ]
  },
  {
   "cell_type": "code",
   "execution_count": null,
   "metadata": {},
   "outputs": [],
   "source": [
    "best_paths_mat"
   ]
  },
  {
   "cell_type": "code",
   "execution_count": null,
   "metadata": {},
   "outputs": [],
   "source": [
    "# traceback\n",
    "# Prepare for loop.\n",
    "seq_1_aligned = []\n",
    "seq_2_aligned = []\n",
    "middle_part = []\n",
    "\n",
    "num_alignment_moves = max(best_paths_mat_num_rows, best_paths_mat_num_cols) - 1\n",
    "\n",
    "# Start at the bottom-right.\n",
    "seq_1_index = m - 1\n",
    "seq_2_index = n - 1\n",
    "\n",
    "for w in range(num_alignment_moves):\n",
    "    # Prep for this iteration.\n",
    "    # Because of the initial row and column in\n",
    "    # best_paths_mat that doesn't align with\n",
    "    # any parts of the two sequence, the indices\n",
    "    # are off by one.\n",
    "    best_paths_mat_row_index = seq_1_index + 1\n",
    "    best_paths_mat_col_index = seq_2_index + 1\n",
    "\n",
    "    path_indicator = best_paths_mat[best_paths_mat_row_index][best_paths_mat_col_index]\n",
    "\n",
    "    if path_indicator == 0:\n",
    "        middle_part.append(\" \")\n",
    "        seq_1_aligned.append(\"-\")\n",
    "        seq_2_aligned.append(seq_2[seq_2_index])\n",
    "        seq_2_index -= 1\n",
    "    elif path_indicator == 1:\n",
    "        middle_part.append(\" \")\n",
    "        seq_1_aligned.append(seq_1[seq_1_index])\n",
    "        seq_1_index -= 1\n",
    "        seq_2_aligned.append(\"-\")\n",
    "    else:\n",
    "        seq_1_letter = seq_1[seq_1_index]\n",
    "        seq_2_letter = seq_2[seq_2_index]\n",
    "        if seq_1_letter == seq_2_letter:\n",
    "            # There was a match.\n",
    "            middle_part.append(\"|\")\n",
    "        else:\n",
    "            # There was not a match.\n",
    "            middle_part.append(\"*\")\n",
    "\n",
    "        seq_1_aligned.append(seq_1[seq_1_index])\n",
    "        seq_1_index -= 1\n",
    "        seq_2_aligned.append(seq_2[seq_2_index])\n",
    "        seq_2_index -= 1"
   ]
  },
  {
   "cell_type": "code",
   "execution_count": null,
   "metadata": {},
   "outputs": [],
   "source": [
    "seq_1_aligned.reverse()\n",
    "middle_part.reverse()\n",
    "seq_2_aligned.reverse()"
   ]
  },
  {
   "cell_type": "code",
   "execution_count": null,
   "metadata": {},
   "outputs": [],
   "source": [
    "seq_1_aligned_out = \"\".join(seq_1_aligned)\n",
    "middle_part_out = \"\".join(middle_part)\n",
    "seq_2_aligned_out = \"\".join(seq_2_aligned)"
   ]
  },
  {
   "cell_type": "code",
   "execution_count": null,
   "metadata": {},
   "outputs": [],
   "source": [
    "print(seq_1_aligned_out)\n",
    "print(middle_part_out)\n",
    "print(seq_2_aligned_out)\n",
    "print(score)"
   ]
  }
 ],
 "metadata": {
  "kernelspec": {
   "display_name": "omar_r_needleman_wunsch",
   "language": "python",
   "name": "python3"
  },
  "language_info": {
   "codemirror_mode": {
    "name": "ipython",
    "version": 3
   },
   "file_extension": ".py",
   "mimetype": "text/x-python",
   "name": "python",
   "nbconvert_exporter": "python",
   "pygments_lexer": "ipython3",
   "version": "3.11.3"
  }
 },
 "nbformat": 4,
 "nbformat_minor": 2
}
