{
 "cells": [
  {
   "cell_type": "code",
   "execution_count": 1,
   "metadata": {},
   "outputs": [],
   "source": [
    "import global_align as ga"
   ]
  },
  {
   "cell_type": "code",
   "execution_count": 2,
   "metadata": {},
   "outputs": [],
   "source": [
    "scoring_mat = {\n",
    "    \"A\": {\"A\": 1, \"C\": -1, \"G\": -1, \"T\": -1, \"-\": -2},\n",
    "    \"C\": {\"A\": -1, \"C\": 1, \"G\": -1, \"T\": -1, \"-\": -2},\n",
    "    \"G\": {\"A\": -1, \"C\": -1, \"G\": 1, \"T\": -1, \"-\": -2},\n",
    "    \"T\": {\"A\": -1, \"C\": -1, \"G\": -1, \"T\": 1, \"-\": -2},\n",
    "    \"-\": {\"A\": -2, \"C\": -2, \"G\": -2, \"T\": -2, \"-\": -2},\n",
    "}"
   ]
  },
  {
   "cell_type": "code",
   "execution_count": 3,
   "metadata": {},
   "outputs": [
    {
     "data": {
      "text/plain": [
       "1"
      ]
     },
     "execution_count": 3,
     "metadata": {},
     "output_type": "execute_result"
    }
   ],
   "source": [
    "scoring_mat[\"C\"][\"C\"]"
   ]
  },
  {
   "cell_type": "code",
   "execution_count": 4,
   "metadata": {},
   "outputs": [],
   "source": [
    "seq_1 = \"CTGCG\"\n",
    "seq_2 = \"GTCG\"\n",
    "\n",
    "# 0: gap in seq_1\n",
    "# 1: gap in seq_2\n",
    "# 2: match/mismatch"
   ]
  },
  {
   "cell_type": "code",
   "execution_count": 5,
   "metadata": {},
   "outputs": [],
   "source": [
    "m = len(seq_1)\n",
    "n = len(seq_2)\n",
    "F_mat_num_rows = m + 1\n",
    "F_mat_num_cols = n + 1"
   ]
  },
  {
   "cell_type": "code",
   "execution_count": 6,
   "metadata": {},
   "outputs": [],
   "source": [
    "# https://www.freecodecamp.org/news/list-within-a-list-in-python-initialize-a-nested-list/\n",
    "F_mat = [\n",
    "    [0]*(F_mat_num_cols) for i in range(F_mat_num_rows)\n",
    "]"
   ]
  },
  {
   "cell_type": "markdown",
   "metadata": {},
   "source": [
    "We can go one row at a time through the F_mat (starting at row index 1, col index 1 and always skipping col index 0).  Simultaneously, fill out the best_paths_mat.  (Note that we need to save the entirety of the best_paths_mat.)  We only need to keep the col 0 of the F_mat and two rows in memory at a time."
   ]
  },
  {
   "cell_type": "code",
   "execution_count": 7,
   "metadata": {},
   "outputs": [
    {
     "data": {
      "text/plain": [
       "[[0, -2, -4, -6, -8],\n",
       " [0, 0, 0, 0, 0],\n",
       " [0, 0, 0, 0, 0],\n",
       " [0, 0, 0, 0, 0],\n",
       " [0, 0, 0, 0, 0],\n",
       " [0, 0, 0, 0, 0]]"
      ]
     },
     "execution_count": 7,
     "metadata": {},
     "output_type": "execute_result"
    }
   ],
   "source": [
    "F_mat[0] = [-2*x for x in range(F_mat_num_cols)]\n",
    "F_mat"
   ]
  },
  {
   "cell_type": "code",
   "execution_count": 8,
   "metadata": {},
   "outputs": [
    {
     "data": {
      "text/plain": [
       "[[0, -2, -4, -6, -8],\n",
       " [-2, 0, 0, 0, 0],\n",
       " [-4, 0, 0, 0, 0],\n",
       " [-6, 0, 0, 0, 0],\n",
       " [-8, 0, 0, 0, 0],\n",
       " [-10, 0, 0, 0, 0]]"
      ]
     },
     "execution_count": 8,
     "metadata": {},
     "output_type": "execute_result"
    }
   ],
   "source": [
    "for i in range(F_mat_num_rows):\n",
    "    F_mat[i][0] = -2*i\n",
    "\n",
    "F_mat"
   ]
  },
  {
   "cell_type": "code",
   "execution_count": 9,
   "metadata": {},
   "outputs": [],
   "source": [
    "GAP_SCORE = -2 "
   ]
  },
  {
   "cell_type": "code",
   "execution_count": 10,
   "metadata": {},
   "outputs": [
    {
     "data": {
      "text/plain": [
       "[[0, 0, 0, 0, 0],\n",
       " [1, 0, 0, 0, 0],\n",
       " [1, 0, 0, 0, 0],\n",
       " [1, 0, 0, 0, 0],\n",
       " [1, 0, 0, 0, 0],\n",
       " [1, 0, 0, 0, 0]]"
      ]
     },
     "execution_count": 10,
     "metadata": {},
     "output_type": "execute_result"
    }
   ],
   "source": [
    "best_paths_mat_num_rows = F_mat_num_rows\n",
    "best_paths_mat_num_cols = F_mat_num_cols\n",
    "best_paths_mat = [[0]*best_paths_mat_num_cols for i in range(best_paths_mat_num_rows)]\n",
    "\n",
    "# Get 1's in the beginning of each row.\n",
    "for i in range(1, best_paths_mat_num_rows):\n",
    "    best_paths_mat[i][0] = 1\n",
    "\n",
    "best_paths_mat"
   ]
  },
  {
   "cell_type": "code",
   "execution_count": 11,
   "metadata": {},
   "outputs": [],
   "source": [
    "for i in range(1, F_mat_num_rows):\n",
    "    for j in range(1, F_mat_num_cols):\n",
    "        seq_1_index = i - 1\n",
    "        seq_2_index = j - 1\n",
    "\n",
    "        score_for_path_a = F_mat[i][j - 1]\n",
    "        score_for_path_b = F_mat[i - 1][j]\n",
    "        score_for_path_c = F_mat[i - 1][j - 1]\n",
    "\n",
    "        score_for_gap_in_seq_1 = score_for_path_a + GAP_SCORE\n",
    "        score_for_gap_in_seq_2 = score_for_path_b + GAP_SCORE\n",
    "        score_for_match_mismatch = score_for_path_c + scoring_mat[seq_1[seq_1_index]][seq_2[seq_2_index]]\n",
    "        \n",
    "        possible_new_scores = [score_for_gap_in_seq_1, score_for_gap_in_seq_2, score_for_match_mismatch]\n",
    "        max_possible_new_score = max(possible_new_scores)\n",
    "        \n",
    "        F_mat[i][j] = max_possible_new_score\n",
    "        best_type_of_path = possible_new_scores.index(max_possible_new_score)\n",
    "        # print(f\"i: {i}      j: {j}\")\n",
    "        best_paths_mat[i][j] = best_type_of_path"
   ]
  },
  {
   "cell_type": "code",
   "execution_count": 12,
   "metadata": {},
   "outputs": [
    {
     "data": {
      "text/plain": [
       "[[0, -2, -4, -6, -8],\n",
       " [-2, -1, -3, -3, -5],\n",
       " [-4, -3, 0, -2, -4],\n",
       " [-6, -3, -2, -1, -1],\n",
       " [-8, -5, -4, -1, -2],\n",
       " [-10, -7, -6, -3, 0]]"
      ]
     },
     "execution_count": 12,
     "metadata": {},
     "output_type": "execute_result"
    }
   ],
   "source": [
    "F_mat"
   ]
  },
  {
   "cell_type": "code",
   "execution_count": null,
   "metadata": {},
   "outputs": [
    {
     "data": {
      "text/plain": [
       "[[0, 0, 0, 0, 0],\n",
       " [1, 2, 0, 2, 0],\n",
       " [1, 1, 2, 0, 0],\n",
       " [1, 2, 1, 2, 2],\n",
       " [1, 1, 1, 2, 2],\n",
       " [1, 1, 1, 1, 2]]"
      ]
     },
     "execution_count": 13,
     "metadata": {},
     "output_type": "execute_result"
    }
   ],
   "source": [
    "best_paths_mat"
   ]
  },
  {
   "cell_type": "code",
   "execution_count": 16,
   "metadata": {},
   "outputs": [],
   "source": [
    "# traceback\n",
    "# Prepare for loop.\n",
    "seq_1_aligned = []\n",
    "seq_2_aligned = []\n",
    "\n",
    "num_alignment_moves = max(best_paths_mat_num_rows, best_paths_mat_num_cols) - 1\n",
    "\n",
    "# Start at the bottom-right.\n",
    "seq_1_index = m - 1\n",
    "seq_2_index = n - 1\n",
    "\n",
    "for w in range(num_alignment_moves):\n",
    "    # Prep for this iteration.\n",
    "    # Because of the initial row and column in\n",
    "    # best_paths_mat that doesn't align with\n",
    "    # any parts of the two sequence, the indices\n",
    "    # are off by one.\n",
    "    best_paths_mat_row_index = seq_1_index + 1\n",
    "    best_paths_mat_col_index = seq_2_index + 1\n",
    "\n",
    "    path_indicator = best_paths_mat[best_paths_mat_row_index][best_paths_mat_col_index]\n",
    "\n",
    "    if path_indicator == 0:\n",
    "        seq_1_aligned.append(\"-\")\n",
    "        seq_2_aligned.append(seq_2[seq_2_index])\n",
    "        seq_2_index -= 1\n",
    "    elif path_indicator == 1:\n",
    "        seq_1_aligned.append(seq_1[seq_1_index])\n",
    "        seq_1_index -= 1\n",
    "        seq_2_aligned.append(\"-\")\n",
    "    else:\n",
    "        seq_1_aligned.append(seq_1[seq_1_index])\n",
    "        seq_1_index -= 1\n",
    "        seq_2_aligned.append(seq_2[seq_2_index])\n",
    "        seq_2_index -= 1\n",
    "    "
   ]
  },
  {
   "cell_type": "code",
   "execution_count": null,
   "metadata": {},
   "outputs": [],
   "source": [
    "seq_1_aligned.reverse()\n",
    "seq_2_aligned.reverse()"
   ]
  },
  {
   "cell_type": "code",
   "execution_count": 19,
   "metadata": {},
   "outputs": [
    {
     "name": "stdout",
     "output_type": "stream",
     "text": [
      "['C', 'T', 'G', 'C', 'G']\n",
      "['G', 'T', '-', 'C', 'G']\n"
     ]
    }
   ],
   "source": [
    "print(seq_1_aligned)\n",
    "print(seq_2_aligned)"
   ]
  }
 ],
 "metadata": {
  "kernelspec": {
   "display_name": "omar_r_needleman_wunsch",
   "language": "python",
   "name": "python3"
  },
  "language_info": {
   "codemirror_mode": {
    "name": "ipython",
    "version": 3
   },
   "file_extension": ".py",
   "mimetype": "text/x-python",
   "name": "python",
   "nbconvert_exporter": "python",
   "pygments_lexer": "ipython3",
   "version": "3.11.3"
  }
 },
 "nbformat": 4,
 "nbformat_minor": 2
}
