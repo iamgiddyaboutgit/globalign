{
 "cells": [
  {
   "cell_type": "code",
   "execution_count": 1,
   "metadata": {},
   "outputs": [],
   "source": [
    "import global_align as ga"
   ]
  },
  {
   "cell_type": "code",
   "execution_count": 10,
   "metadata": {},
   "outputs": [],
   "source": [
    "gap_existence_cost = 100\n",
    "scoring_mat = {\n",
    "    \"A\": {\"A\": 1, \"C\": -1, \"G\": -1, \"T\": -1, \"-\": -2},\n",
    "    \"C\": {\"A\": -1, \"C\": 1, \"G\": -1, \"T\": -1, \"-\": -2},\n",
    "    \"G\": {\"A\": -1, \"C\": -1, \"G\": 1, \"T\": -1, \"-\": -2},\n",
    "    \"T\": {\"A\": -1, \"C\": -1, \"G\": -1, \"T\": 1, \"-\": -2},\n",
    "    \"-\": {\"A\": -2, \"C\": -2, \"G\": -2, \"T\": -2, \"-\": 1},\n",
    "}\n",
    "seq_1 = \"actctggctgggctgccagggtcacgctgtgat\"\n",
    "seq_1 = seq_1.upper()\n",
    "seq_2 = \"catcaaaagtgtgtgtgagagaactggctt\"\n",
    "seq_2 = seq_2.upper()"
   ]
  },
  {
   "cell_type": "code",
   "execution_count": 11,
   "metadata": {},
   "outputs": [
    {
     "name": "stdout",
     "output_type": "stream",
     "text": [
      ">seq_1\n",
      ">seq_2\n",
      "\n",
      "ACTCTGGCTGGGCTGCCAGGGTCACGCTGTGAT\n",
      "**||******|**||**||*|  |* |||***|\n",
      "CATCAAAAGTGTGTGTGAGAG--AA-CTGGCTT\n",
      "\n",
      "score=-112\n"
     ]
    }
   ],
   "source": [
    "alignment = ga.align(\n",
    "    seq_1=seq_1,\n",
    "    seq_2=seq_2,\n",
    "    scoring_mat=scoring_mat,\n",
    "    gap_existence_cost=gap_existence_cost\n",
    ")\n",
    "ga.print_alignment(\n",
    "    desc_1=\">seq_1\",\n",
    "    desc_2=\">seq_2\",\n",
    "    alignment=alignment,\n",
    "    chars_per_line=70\n",
    ")"
   ]
  }
 ],
 "metadata": {
  "kernelspec": {
   "display_name": "omar_r_needleman_wunsch",
   "language": "python",
   "name": "python3"
  },
  "language_info": {
   "codemirror_mode": {
    "name": "ipython",
    "version": 3
   },
   "file_extension": ".py",
   "mimetype": "text/x-python",
   "name": "python",
   "nbconvert_exporter": "python",
   "pygments_lexer": "ipython3",
   "version": "3.11.3"
  }
 },
 "nbformat": 4,
 "nbformat_minor": 2
}
