{
 "cells": [
  {
   "cell_type": "markdown",
   "metadata": {},
   "source": [
    "# TODO: Move back to notebooks directory."
   ]
  },
  {
   "cell_type": "code",
   "execution_count": 7,
   "metadata": {},
   "outputs": [],
   "source": [
    "import globaligner as ga\n",
    "import conclude\n",
    "import start \n",
    "import itertools\n",
    "import random\n",
    "import sys\n",
    "from typing import NamedTuple\n",
    "from pprint import pprint\n",
    "from pathlib import Path"
   ]
  },
  {
   "cell_type": "code",
   "execution_count": 8,
   "metadata": {},
   "outputs": [],
   "source": [
    "alignment_results = ga.find_global_alignment(\n",
    "    seq_1=\"CGGTCTTAGCATATGTTGGCATAC\",\n",
    "    seq_2=\"ATTAGCATCATAGTGGA\",\n",
    "    match_score=2,\n",
    "    mismatch_score=-2,\n",
    "    gap_open_score=-5,\n",
    "    gap_extension_score=-2\n",
    ")"
   ]
  },
  {
   "cell_type": "code",
   "execution_count": 9,
   "metadata": {},
   "outputs": [
    {
     "data": {
      "text/plain": [
       "[[(0, 0, 0), (15, 7, 15), (15, 10, 15), (15, 13, 15)],\n",
       " [(15, 15, 7), None, None, None],\n",
       " [(15, 15, 10), None, None, None],\n",
       " [(15, 15, 13), None, None, None]]"
      ]
     },
     "execution_count": 9,
     "metadata": {},
     "output_type": "execute_result"
    }
   ],
   "source": [
    "ga.make_dp_array(\n",
    "    seq_1=\"AGG\",\n",
    "    seq_2=\"GAG\",\n",
    "    costing_mat=alignment_results.costing_mat,\n",
    "    max_cost=ga.get_max_val(alignment_results.costing_mat),\n",
    "    gap_open_cost=alignment_results.gap_open_cost\n",
    ")"
   ]
  },
  {
   "cell_type": "code",
   "execution_count": 3,
   "metadata": {},
   "outputs": [
    {
     "name": "stdout",
     "output_type": "stream",
     "text": [
      "rat\n",
      "mouse\n",
      "\n",
      "CGGTCTTAGCAT-ATGTTGGCATAC\n",
      "    *||||||| ||**|||*    \n",
      "----ATTAGCATCATAGTGGA----\n",
      "\n",
      "score: -14\n",
      "cost: 55\n",
      "###########################################\n",
      "# Settings\n",
      "###########################################\n",
      "scoring_mat:\n",
      "    A  C  G  T  -\n",
      "A   2 -2 -2 -2 -2\n",
      "C  -2  2 -2 -2 -2\n",
      "G  -2 -2  2 -2 -2\n",
      "T  -2 -2 -2  2 -2\n",
      "-  -2 -2 -2 -2  2\n",
      "\n",
      "gap_open_score: -5\n",
      "\n",
      "costing_mat:\n",
      "   A C G T -\n",
      "A  0 4 4 4 3\n",
      "C  4 0 4 4 3\n",
      "G  4 4 0 4 3\n",
      "T  4 4 4 0 3\n",
      "-  3 3 3 3 0\n",
      "\n",
      "gap_open_cost: 4\n",
      "\n"
     ]
    }
   ],
   "source": [
    "alignment_results.write(desc_1=\"rat\", desc_2=\"mouse\")"
   ]
  },
  {
   "cell_type": "code",
   "execution_count": 4,
   "metadata": {},
   "outputs": [],
   "source": [
    "mat = {\n",
    "    \"laugh\": {\"laugh\": 343, \"smi\": 3838, \"a\": 3},\n",
    "    \"smi\": {\"laugh\": 2, \"smi\": 33, \"a\": 39834},\n",
    "    \"a\": {\"laugh\": 35352, \"smi\": 4533, \"a\": 4}\n",
    "}\n",
    "\n",
    "nl = [\n",
    "    [343, 3838],\n",
    "    [2, 33]\n",
    "]"
   ]
  },
  {
   "cell_type": "code",
   "execution_count": 5,
   "metadata": {},
   "outputs": [
    {
     "ename": "AttributeError",
     "evalue": "module 'conclude' has no attribute 'pprint_mat'",
     "output_type": "error",
     "traceback": [
      "\u001b[0;31m---------------------------------------------------------------------------\u001b[0m",
      "\u001b[0;31mAttributeError\u001b[0m                            Traceback (most recent call last)",
      "Cell \u001b[0;32mIn[5], line 1\u001b[0m\n\u001b[0;32m----> 1\u001b[0m \u001b[43mconclude\u001b[49m\u001b[38;5;241;43m.\u001b[39;49m\u001b[43mpprint_mat\u001b[49m(mat)\n",
      "\u001b[0;31mAttributeError\u001b[0m: module 'conclude' has no attribute 'pprint_mat'"
     ]
    }
   ],
   "source": [
    "conclude.pprint_mat(mat)"
   ]
  },
  {
   "cell_type": "code",
   "execution_count": null,
   "metadata": {},
   "outputs": [
    {
     "name": "stdout",
     "output_type": "stream",
     "text": [
      " 343 3838\n",
      "   2   33\n",
      "\n"
     ]
    }
   ],
   "source": [
    "conclude.print_nested_list_aligned(nl)"
   ]
  },
  {
   "cell_type": "code",
   "execution_count": null,
   "metadata": {},
   "outputs": [
    {
     "name": "stdout",
     "output_type": "stream",
     "text": [
      "{'A': 0, 'C': 4, 'G': 4, 'T': 4, '-': 3}\n",
      "{'A': 4, 'C': 0, 'G': 4, 'T': 4, '-': 3}\n",
      "{'A': 4, 'C': 4, 'G': 0, 'T': 4, '-': 3}\n",
      "{'A': 4, 'C': 4, 'G': 4, 'T': 0, '-': 3}\n",
      "{'A': 3, 'C': 3, 'G': 3, 'T': 3, '-': 0}\n"
     ]
    }
   ],
   "source": [
    "for j in range(5):\n",
    "    for row in alignment_results.costing_mat.values():\n",
    "        cell = row[j]"
   ]
  },
  {
   "cell_type": "code",
   "execution_count": null,
   "metadata": {},
   "outputs": [
    {
     "data": {
      "text/plain": [
       "5"
      ]
     },
     "execution_count": 5,
     "metadata": {},
     "output_type": "execute_result"
    }
   ],
   "source": [
    "len(list(alignment_results.scoring_mat.values())[0].keys())"
   ]
  },
  {
   "cell_type": "code",
   "execution_count": null,
   "metadata": {},
   "outputs": [
    {
     "name": "stdout",
     "output_type": "stream",
     "text": [
      "hello 6-4 for yu\n"
     ]
    }
   ],
   "source": [
    "b = \"\".join([f\"hello {3 + 3}\", f\"{3 - 7} for yu\"])\n",
    "print(b)"
   ]
  },
  {
   "cell_type": "code",
   "execution_count": null,
   "metadata": {},
   "outputs": [
    {
     "name": "stdout",
     "output_type": "stream",
     "text": [
      "  2 -2 -2 -2 -2\n",
      " -2  2 -2 -2 -2\n",
      " -2 -2  2 -2 -2\n",
      " -2 -2 -2  2 -2\n",
      " -2 -2 -2 -2  2\n",
      "\n"
     ]
    }
   ],
   "source": [
    "a = [list(inner_dict.values()) for inner_dict in alignment_results.scoring_mat.values()]\n",
    "conclude.print_nested_list_aligned(a)"
   ]
  },
  {
   "cell_type": "code",
   "execution_count": null,
   "metadata": {},
   "outputs": [
    {
     "name": "stdout",
     "output_type": "stream",
     "text": [
      "197 ns ± 77.7 ns per loop (mean ± std. dev. of 7 runs, 1,000,000 loops each)\n"
     ]
    }
   ],
   "source": [
    "%%timeit\n",
    "a = \"\".join(alignment_printout_generator)"
   ]
  },
  {
   "cell_type": "code",
   "execution_count": null,
   "metadata": {},
   "outputs": [],
   "source": [
    "conclude.write_alignment(\n",
    "    alignment_results=alignment_results,\n",
    "    output=\"testing_me_again\"\n",
    ")"
   ]
  },
  {
   "cell_type": "code",
   "execution_count": null,
   "metadata": {},
   "outputs": [
    {
     "name": "stdout",
     "output_type": "stream",
     "text": [
      "seq_1\n",
      "seq_2\n",
      "\n",
      "CGGTCTTAGCAT-ATGTTGGCATAC\n",
      "    *||||||| ||**|||   | \n",
      "----ATTAGCATCATAGTGG---A-\n",
      "\n"
     ]
    }
   ],
   "source": [
    "conclude.print_alignment(alignment_results)"
   ]
  },
  {
   "cell_type": "code",
   "execution_count": null,
   "metadata": {},
   "outputs": [
    {
     "name": "stdout",
     "output_type": "stream",
     "text": [
      "match_score must be convertible to an integer.\n"
     ]
    },
    {
     "ename": "TypeError",
     "evalue": "int() argument must be a string, a bytes-like object or a real number, not 'NoneType'",
     "output_type": "error",
     "traceback": [
      "\u001b[0;31m---------------------------------------------------------------------------\u001b[0m",
      "\u001b[0;31mTypeError\u001b[0m                                 Traceback (most recent call last)",
      "Cell \u001b[0;32mIn[13], line 1\u001b[0m\n\u001b[0;32m----> 1\u001b[0m simple_scoring_settings \u001b[38;5;241m=\u001b[39m \u001b[43msetup\u001b[49m\u001b[38;5;241;43m.\u001b[39;49m\u001b[43mSimpleScoringSettings\u001b[49m\u001b[43m(\u001b[49m\u001b[38;5;241;43m*\u001b[39;49m\u001b[43m(\u001b[49m\u001b[38;5;28;43;01mNone\u001b[39;49;00m\u001b[43m,\u001b[49m\u001b[43m)\u001b[49m\u001b[38;5;241;43m*\u001b[39;49m\u001b[38;5;241;43m4\u001b[39;49m\u001b[43m)\u001b[49m\n\u001b[1;32m      2\u001b[0m \u001b[38;5;28mprint\u001b[39m(simple_scoring_settings)\n",
      "File \u001b[0;32m<string>:7\u001b[0m, in \u001b[0;36m__init__\u001b[0;34m(self, match_score, mismatch_score, gap_open_score, gap_extension_score)\u001b[0m\n",
      "File \u001b[0;32m~/Documents/coding_projects/practice/topic_first_practice/globalign/src/globalign/setup.py:32\u001b[0m, in \u001b[0;36mSimpleScoringSettings.__post_init__\u001b[0;34m(self)\u001b[0m\n\u001b[1;32m     30\u001b[0m \u001b[38;5;28;01mexcept\u001b[39;00m (\u001b[38;5;167;01mTypeError\u001b[39;00m, \u001b[38;5;167;01mValueError\u001b[39;00m) \u001b[38;5;28;01mas\u001b[39;00m e:\n\u001b[1;32m     31\u001b[0m     \u001b[38;5;28mprint\u001b[39m(\u001b[38;5;124m\"\u001b[39m\u001b[38;5;124mmatch_score must be convertible to an integer.\u001b[39m\u001b[38;5;124m\"\u001b[39m)\n\u001b[0;32m---> 32\u001b[0m     \u001b[38;5;28;01mraise\u001b[39;00m e\n\u001b[1;32m     34\u001b[0m \u001b[38;5;28;01mtry\u001b[39;00m:\n\u001b[1;32m     35\u001b[0m     \u001b[38;5;28mself\u001b[39m\u001b[38;5;241m.\u001b[39mmismatch_score \u001b[38;5;241m=\u001b[39m \u001b[38;5;28mint\u001b[39m(mismatch_score)\n",
      "File \u001b[0;32m~/Documents/coding_projects/practice/topic_first_practice/globalign/src/globalign/setup.py:29\u001b[0m, in \u001b[0;36mSimpleScoringSettings.__post_init__\u001b[0;34m(self)\u001b[0m\n\u001b[1;32m     27\u001b[0m \u001b[38;5;28mprint\u001b[39m(match_score)\n\u001b[1;32m     28\u001b[0m \u001b[38;5;28;01mtry\u001b[39;00m:\n\u001b[0;32m---> 29\u001b[0m     \u001b[38;5;28mself\u001b[39m\u001b[38;5;241m.\u001b[39mmatch_score \u001b[38;5;241m=\u001b[39m \u001b[38;5;28;43mint\u001b[39;49m\u001b[43m(\u001b[49m\u001b[43mmatch_score\u001b[49m\u001b[43m)\u001b[49m\n\u001b[1;32m     30\u001b[0m \u001b[38;5;28;01mexcept\u001b[39;00m (\u001b[38;5;167;01mTypeError\u001b[39;00m, \u001b[38;5;167;01mValueError\u001b[39;00m) \u001b[38;5;28;01mas\u001b[39;00m e:\n\u001b[1;32m     31\u001b[0m     \u001b[38;5;28mprint\u001b[39m(\u001b[38;5;124m\"\u001b[39m\u001b[38;5;124mmatch_score must be convertible to an integer.\u001b[39m\u001b[38;5;124m\"\u001b[39m)\n",
      "\u001b[0;31mTypeError\u001b[0m: int() argument must be a string, a bytes-like object or a real number, not 'NoneType'"
     ]
    }
   ],
   "source": [
    "simple_scoring_settings = start.SimpleScoringSettings(*(None,)*4)\n",
    "print(simple_scoring_settings)"
   ]
  },
  {
   "cell_type": "code",
   "execution_count": null,
   "metadata": {},
   "outputs": [
    {
     "ename": "AttributeError",
     "evalue": "module 'globaligner' has no attribute 'ScoringSettings'",
     "output_type": "error",
     "traceback": [
      "\u001b[0;31m---------------------------------------------------------------------------\u001b[0m",
      "\u001b[0;31mAttributeError\u001b[0m                            Traceback (most recent call last)",
      "Cell \u001b[0;32mIn[3], line 1\u001b[0m\n\u001b[0;32m----> 1\u001b[0m scoring_settings \u001b[38;5;241m=\u001b[39m \u001b[43mga\u001b[49m\u001b[38;5;241;43m.\u001b[39;49m\u001b[43mScoringSettings\u001b[49m(\u001b[38;5;241m*\u001b[39m(\u001b[38;5;28;01mNone\u001b[39;00m,)\u001b[38;5;241m*\u001b[39m\u001b[38;5;241m5\u001b[39m)\n\u001b[1;32m      2\u001b[0m costing_settings \u001b[38;5;241m=\u001b[39m ga\u001b[38;5;241m.\u001b[39mCostingSettings(\u001b[38;5;241m*\u001b[39m(\u001b[38;5;28;01mNone\u001b[39;00m,)\u001b[38;5;241m*\u001b[39m\u001b[38;5;241m4\u001b[39m)\n\u001b[1;32m      3\u001b[0m alignment_settings \u001b[38;5;241m=\u001b[39m ga\u001b[38;5;241m.\u001b[39mAlignmentSettings(scoring_settings, costing_settings)\n",
      "\u001b[0;31mAttributeError\u001b[0m: module 'globaligner' has no attribute 'ScoringSettings'"
     ]
    }
   ],
   "source": [
    "scoring_settings = ga.ScoringSettings(*(None,)*5)\n",
    "costing_settings = ga.CostingSettings(*(None,)*4)\n",
    "alignment_settings = ga.AlignmentSettings(scoring_settings, costing_settings)\n",
    "print(alignment_settings)"
   ]
  },
  {
   "cell_type": "code",
   "execution_count": null,
   "metadata": {},
   "outputs": [],
   "source": [
    "alignment_settings.scoring_settings.scoring_mat"
   ]
  },
  {
   "cell_type": "code",
   "execution_count": null,
   "metadata": {},
   "outputs": [
    {
     "name": "stdout",
     "output_type": "stream",
     "text": [
      "{'-': {'-': 2, 'A': -2, 'C': -2, 'G': -2, 'T': -2},\n",
      " 'A': {'-': -2, 'A': 2, 'C': -3, 'G': -3, 'T': -3},\n",
      " 'C': {'-': -2, 'A': -3, 'C': 2, 'G': -3, 'T': -3},\n",
      " 'G': {'-': -2, 'A': -3, 'C': -3, 'G': 2, 'T': -3},\n",
      " 'T': {'-': -2, 'A': -3, 'C': -3, 'G': -3, 'T': 2}}\n"
     ]
    }
   ],
   "source": [
    "ncbi_match_score = 2\n",
    "ncbi_mismatch_score = -3\n",
    "gap_open_cost = 4\n",
    "ncbi_gap_extension_score = -2\n",
    "scoring_mat = {\n",
    "    \"A\": {\"A\": ncbi_match_score, \"C\": ncbi_mismatch_score, \"G\": ncbi_mismatch_score, \"T\": ncbi_mismatch_score, \"-\": ncbi_gap_extension_score},\n",
    "    \"C\": {\"A\": ncbi_mismatch_score, \"C\": ncbi_match_score, \"G\": ncbi_mismatch_score, \"T\": ncbi_mismatch_score, \"-\": ncbi_gap_extension_score},\n",
    "    \"G\": {\"A\": ncbi_mismatch_score, \"C\": ncbi_mismatch_score, \"G\": ncbi_match_score, \"T\": ncbi_mismatch_score, \"-\": ncbi_gap_extension_score},\n",
    "    \"T\": {\"A\": ncbi_mismatch_score, \"C\": ncbi_mismatch_score, \"G\": ncbi_mismatch_score, \"T\": ncbi_match_score, \"-\": ncbi_gap_extension_score},\n",
    "    \"-\": {\"A\": ncbi_gap_extension_score, \"C\": ncbi_gap_extension_score, \"G\": ncbi_gap_extension_score, \"T\": ncbi_gap_extension_score, \"-\": ncbi_match_score},\n",
    "}\n",
    "pprint(scoring_mat)"
   ]
  },
  {
   "cell_type": "code",
   "execution_count": null,
   "metadata": {},
   "outputs": [
    {
     "data": {
      "text/plain": [
       "{'A': {'A': 0, 'C': 5, 'G': 5, 'T': 5, '-': 3},\n",
       " 'C': {'A': 5, 'C': 0, 'G': 5, 'T': 5, '-': 3},\n",
       " 'G': {'A': 5, 'C': 5, 'G': 0, 'T': 5, '-': 3},\n",
       " 'T': {'A': 5, 'C': 5, 'G': 5, 'T': 0, '-': 3},\n",
       " '-': {'A': 3, 'C': 3, 'G': 3, 'T': 3, '-': 0}}"
      ]
     },
     "execution_count": 3,
     "metadata": {},
     "output_type": "execute_result"
    }
   ],
   "source": [
    "max_score = start.get_max_val(scoring_mat)\n",
    "costing_mat = start.scoring_mat_to_costing_mat(\n",
    "    scoring_mat=scoring_mat,\n",
    "    max_score=max_score\n",
    ")\n",
    "max_cost = start.get_max_val(costing_mat)\n",
    "costing_mat"
   ]
  },
  {
   "cell_type": "code",
   "execution_count": null,
   "metadata": {},
   "outputs": [
    {
     "data": {
      "text/plain": [
       "{'A': {'A': 2, 'C': -3, 'G': -3, 'T': -3, '-': -2},\n",
       " 'C': {'A': -3, 'C': 2, 'G': -3, 'T': -3, '-': -2},\n",
       " 'G': {'A': -3, 'C': -3, 'G': 2, 'T': -3, '-': -2},\n",
       " 'T': {'A': -3, 'C': -3, 'G': -3, 'T': 2, '-': -2},\n",
       " '-': {'A': -2, 'C': -2, 'G': -2, 'T': -2, '-': 2}}"
      ]
     },
     "execution_count": 5,
     "metadata": {},
     "output_type": "execute_result"
    }
   ],
   "source": [
    "start.costing_mat_to_scoring_mat(\n",
    "    costing_mat=costing_mat,\n",
    "    max_score=max_score\n",
    ")"
   ]
  },
  {
   "cell_type": "code",
   "execution_count": null,
   "metadata": {},
   "outputs": [],
   "source": [
    "seq_1 = \"GGAGGA\"\n",
    "seq_2 = \"GAG\"\n",
    "dp_array = ga.make_dp_array(\n",
    "    seq_1=seq_1,\n",
    "    seq_2=seq_2,\n",
    "    cost_mat=cost_mat,\n",
    "    max_cost=max_cost,\n",
    "    gap_open_cost=gap_open_cost\n",
    ")\n"
   ]
  },
  {
   "cell_type": "code",
   "execution_count": null,
   "metadata": {},
   "outputs": [
    {
     "data": {
      "text/plain": [
       "[[(0, 0, 0), (24, 3, 24), (24, 5, 24), (24, 7, 24)],\n",
       " [(24, 24, 4), None, None, None],\n",
       " [(24, 24, 7), None, None, None],\n",
       " [(24, 24, 10), None, None, None],\n",
       " [(24, 24, 13), None, None, None],\n",
       " [(24, 24, 16), None, None, None],\n",
       " [(24, 24, 19), None, None, None]]"
      ]
     },
     "execution_count": 6,
     "metadata": {},
     "output_type": "execute_result"
    }
   ],
   "source": [
    "dp_array"
   ]
  },
  {
   "cell_type": "code",
   "execution_count": null,
   "metadata": {},
   "outputs": [],
   "source": [
    "# Loop through the dp_array and write the\n",
    "# best costs to get to each position.\n",
    "ga.dp_array_forward(\n",
    "    dp_array=dp_array,\n",
    "    seq_1=seq_1,\n",
    "    seq_2=seq_2,\n",
    "    cost_mat=cost_mat,\n",
    "    gap_open_cost=gap_open_cost\n",
    ")\n"
   ]
  },
  {
   "cell_type": "code",
   "execution_count": null,
   "metadata": {},
   "outputs": [
    {
     "data": {
      "text/plain": [
       "[[(0, 0, 0), (24, 3, 24), (24, 5, 24), (24, 7, 24)],\n",
       " [(24, 24, 4), (0, 7, 7), (6, 3, 9), (5, 5, 11)],\n",
       " [(24, 24, 7), (4, 10, 4), (3, 7, 7), (3, 6, 9)],\n",
       " [(24, 24, 10), (10, 13, 7), (4, 10, 7), (6, 7, 7)],\n",
       " [(24, 24, 13), (10, 16, 10), (10, 13, 8), (4, 11, 10)],\n",
       " [(24, 24, 16), (13, 19, 13), (13, 16, 11), (8, 14, 8)],\n",
       " [(24, 24, 19), (19, 22, 16), (13, 19, 14), (14, 16, 11)]]"
      ]
     },
     "execution_count": 8,
     "metadata": {},
     "output_type": "execute_result"
    }
   ],
   "source": [
    "dp_array"
   ]
  },
  {
   "cell_type": "code",
   "execution_count": null,
   "metadata": {},
   "outputs": [],
   "source": [
    "alignment_results_1 = ga.dp_array_backward(\n",
    "    dp_array=dp_array,\n",
    "    seq_1=seq_1,\n",
    "    seq_2=seq_2,\n",
    "    cost_mat=cost_mat,\n",
    "    gap_open_cost=gap_open_cost\n",
    ")"
   ]
  },
  {
   "cell_type": "code",
   "execution_count": null,
   "metadata": {},
   "outputs": [
    {
     "data": {
      "text/plain": [
       "11"
      ]
     },
     "execution_count": 13,
     "metadata": {},
     "output_type": "execute_result"
    }
   ],
   "source": [
    "alignment_results_1.cost"
   ]
  },
  {
   "cell_type": "code",
   "execution_count": null,
   "metadata": {},
   "outputs": [
    {
     "data": {
      "text/plain": [
       "-5"
      ]
     },
     "execution_count": 14,
     "metadata": {},
     "output_type": "execute_result"
    }
   ],
   "source": [
    "ga.final_cost_to_score(alignment_results_1.cost, m=len(seq_1), n=len(seq_2), max_score=max_score)"
   ]
  },
  {
   "cell_type": "code",
   "execution_count": null,
   "metadata": {},
   "outputs": [],
   "source": [
    "\n",
    "alignment = ga.find_global_alignment(\n",
    "    seq_1=seq_1,\n",
    "    seq_2=seq_2,\n",
    "    cost_mat=cost_mat,\n",
    "    gap_open_cost=gap_open_cost\n",
    ")\n",
    "score = ga.final_cost_to_score(\n",
    "    cost=alignment[\"cost\"],\n",
    "    m=len(seq_1),\n",
    "    n=len(seq_2),\n",
    "    max_score=max_score\n",
    ")\n",
    "\n",
    "ga.print_alignment(\n",
    "    seq_1_aligned=alignment[\"seq_1_aligned\"],\n",
    "    mid=alignment[\"middle_part\"],\n",
    "    seq_2_aligned=alignment[\"seq_2_aligned\"],\n",
    "    score=score\n",
    ")"
   ]
  },
  {
   "cell_type": "code",
   "execution_count": null,
   "metadata": {},
   "outputs": [],
   "source": [
    "seq_1, seq_2 = ga.draw_two_random_seqs(\n",
    "    alphabet=[\"A\", \"C\", 'G', \"T\"],\n",
    "    min_len_seq_1=2,\n",
    "    width_required_seq_1=10,\n",
    "    min_len_seq_2=2,\n",
    "    width_required_seq_2=10,\n",
    "    divergence=0.9\n",
    ")\n",
    "\n",
    "seq_1 = \"GTAGGCGGTC\"\n",
    "seq_2 = \"CAGCTGC\"\n",
    "print(seq_1)\n",
    "print(seq_2)\n",
    "seq_1_aligned_out, middle_part_out, seq_2_aligned_out, cost = ga.find_global_alignment(\n",
    "    seq_1=seq_1,\n",
    "    seq_2=seq_2,\n",
    "    cost_mat=cost_mat,\n",
    "    gap_open_cost=gap_open_cost\n",
    ")\n",
    "print(seq_1_aligned_out)\n",
    "print(middle_part_out)\n",
    "print(seq_2_aligned_out)\n",
    "print(cost)\n",
    "print(ga.final_cost_to_score(\n",
    "    cost=cost,\n",
    "    m=len(seq_1),\n",
    "    n=len(seq_2),\n",
    "    max_score=ncbi_match_score\n",
    "))"
   ]
  },
  {
   "cell_type": "code",
   "execution_count": null,
   "metadata": {},
   "outputs": [],
   "source": [
    "best_paths_mat = [\n",
    "    [\n",
    "        [10, 8, 4, 4],\n",
    "        [0, 1, 8, 4],\n",
    "        [0, 1, 1, 12],\n",
    "        [0, 1, 1, 8],\n",
    "        [0, 1, 1, 12],\n",
    "        [0, 1, 1, 1],\n",
    "        [0, 1, 1, 8]\n",
    "    ],\n",
    "    [\n",
    "        [10, 4, 4, 4],\n",
    "        [9, 5, 5, 5],\n",
    "        [9, 9, 5, 5],\n",
    "        [9, 0, 13, 9],\n",
    "        [9, 0, 0, 13],\n",
    "        [9, 0, 0, 9],\n",
    "        [9, 0, 0, 0]\n",
    "    ],\n",
    "    [\n",
    "        [10, 4, 4, 4],\n",
    "        [0, 10, 7, 6],\n",
    "        [0, 2, 11, 6],\n",
    "        [0, 3, 2, 15],\n",
    "        [0, 2, 3, 10],\n",
    "        [0, 2, 11, 14],\n",
    "        [0, 3, 10, 15]\n",
    "    ]\n",
    "]\n",
    "\n",
    "ga.traceback_3(\n",
    "    best_paths_mat=best_paths_mat,\n",
    "    h_start=1,\n",
    "    seq_1=seq_1,\n",
    "    seq_2=seq_2\n",
    ")"
   ]
  },
  {
   "cell_type": "code",
   "execution_count": null,
   "metadata": {},
   "outputs": [],
   "source": [
    "print(ga.final_cost_to_score(\n",
    "    cost=19,\n",
    "    # m=len(seq_1),\n",
    "    # n=len(seq_2),\n",
    "    m=6,\n",
    "    n=3,\n",
    "    max_score=ncbi_match_score\n",
    "))"
   ]
  },
  {
   "cell_type": "code",
   "execution_count": null,
   "metadata": {},
   "outputs": [],
   "source": [
    "ga.final_score_to_cost(\n",
    "    score=-14,\n",
    "    m=len(seq_1),\n",
    "    n=len(seq_2),\n",
    "    max_score=ncbi_match_score\n",
    ")"
   ]
  },
  {
   "cell_type": "code",
   "execution_count": null,
   "metadata": {},
   "outputs": [],
   "source": [
    "middle_row_index = len(seq_1)\n",
    "best_paths_mat = ga.init_best_paths_matrix(\n",
    "    dynamic_prog_num_rows=middle_row_index + 1,\n",
    "    dynamic_prog_num_cols=len(seq_2) + 1\n",
    ")\n",
    "best_paths_mat"
   ]
  },
  {
   "cell_type": "code",
   "execution_count": null,
   "metadata": {},
   "outputs": [],
   "source": [
    "dynamic_prog_num_cols = len(seq_2) + 1\n",
    "partial_dp_mat = ga.init_partial_dynamic_prog_matrix_2(\n",
    "    seq_1=seq_1,\n",
    "    seq_2=seq_2,\n",
    "    cost_mat=cost_mat,\n",
    "    gap_open_cost=gap_open_cost,\n",
    "    dynamic_prog_num_cols=dynamic_prog_num_cols\n",
    ")\n",
    "partial_dp_mat"
   ]
  },
  {
   "cell_type": "code",
   "execution_count": null,
   "metadata": {},
   "outputs": [],
   "source": [
    "moves_for_gap_open_penalty_from_left = {0, 3, 4, 11, 12, 14, 19, 22, 23}\n",
    "moves_for_gap_open_penalty_from_up = {0, 1, 2, 9, 10, 13, 19, 20, 21}\n",
    "situation_mapper={\n",
    "    # from_diag_best_path_type = 0\n",
    "    # from_left_best_path_type == 1\n",
    "    # and from_up_best_path_type == 3\n",
    "    # 3-way ties\n",
    "    ((0, 0, 0), (0, 1, 3)): 15,\n",
    "    # 2-way ties for low\n",
    "    ((0, 0, 2), (0, 1, 3)): 9,\n",
    "    ((0, 2, 0), (0, 1, 3)): 11,\n",
    "    ((2, 0, 0), (0, 1, 3)): 5,\n",
    "    # 2-way ties for high\n",
    "    ((0, 1, 1), (0, 1, 3)): 0,\n",
    "    ((1, 0, 1), (0, 1, 3)): 1,\n",
    "    ((1, 1, 0), (0, 1, 3)): 3,\n",
    "    # no ties\n",
    "    ((0, 1, 2), (0, 1, 3)): 0,\n",
    "    ((1, 0, 2), (0, 1, 3)): 1,\n",
    "    ((1, 2, 0), (0, 1, 3)): 3,\n",
    "    ((0, 2, 1), (0, 1, 3)): 0,\n",
    "    ((2, 0, 1), (0, 1, 3)): 1,\n",
    "    ((2, 1, 0), (0, 1, 3)): 3,\n",
    "    # from_left_best_path_type == 1\n",
    "    # and from_up_best_path_type == 4\n",
    "    # 3-way ties\n",
    "    ((0, 0, 0), (0, 1, 4)): 16,\n",
    "    # 2-way ties for low\n",
    "    ((0, 0, 2), (0, 1, 4)): 9,\n",
    "    ((0, 2, 0), (0, 1, 4)): 12,\n",
    "    ((2, 0, 0), (0, 1, 4)): 6,\n",
    "    # 2-way ties for high\n",
    "    ((0, 1, 1), (0, 1, 4)): 0,\n",
    "    ((1, 0, 1), (0, 1, 4)): 1,\n",
    "    ((1, 1, 0), (0, 1, 4)): 4,\n",
    "    # no ties\n",
    "    ((0, 1, 2), (0, 1, 4)): 0,\n",
    "    ((1, 0, 2), (0, 1, 4)): 1,\n",
    "    ((1, 2, 0), (0, 1, 4)): 4,\n",
    "    ((0, 2, 1), (0, 1, 4)): 0,\n",
    "    ((2, 0, 1), (0, 1, 4)): 1,\n",
    "    ((2, 1, 0), (0, 1, 4)): 4,\n",
    "    # from_left_best_path_type == 2\n",
    "    # and from_up_best_path_type == 3\n",
    "    # 3-way ties\n",
    "    ((0, 0, 0), (0, 2, 3)): 17,\n",
    "    # 2-way ties for low\n",
    "    ((0, 0, 2), (0, 2, 3)): 10,\n",
    "    ((0, 2, 0), (0, 2, 3)): 11,\n",
    "    ((2, 0, 0), (0, 2, 3)): 7,\n",
    "    # 2-way ties for high\n",
    "    ((0, 1, 1), (0, 2, 3)): 0,\n",
    "    ((1, 0, 1), (0, 2, 3)): 2,\n",
    "    ((1, 1, 0), (0, 2, 3)): 3,\n",
    "    # no ties\n",
    "    ((0, 1, 2), (0, 2, 3)): 0,\n",
    "    ((1, 0, 2), (0, 2, 3)): 2,\n",
    "    ((1, 2, 0), (0, 2, 3)): 3,\n",
    "    ((0, 2, 1), (0, 2, 3)): 0,\n",
    "    ((2, 0, 1), (0, 2, 3)): 2,\n",
    "    ((2, 1, 0), (0, 2, 3)): 3,\n",
    "    # from_left_best_path_type == 2\n",
    "    # and from_up_best_path_type == 4\n",
    "    # 3-way ties\n",
    "    ((0, 0, 0), (0, 2, 4)): 18,\n",
    "    # 2-way ties for low\n",
    "    ((0, 0, 2), (0, 2, 4)): 10,\n",
    "    ((0, 2, 0), (0, 2, 4)): 12,\n",
    "    ((2, 0, 0), (0, 2, 4)): 8,\n",
    "    # 2-way ties for high\n",
    "    ((0, 1, 1), (0, 2, 4)): 0,\n",
    "    ((1, 0, 1), (0, 2, 4)): 2,\n",
    "    ((1, 1, 0), (0, 2, 4)): 4,\n",
    "    # no ties\n",
    "    ((0, 1, 2), (0, 2, 4)): 0,\n",
    "    ((1, 0, 2), (0, 2, 4)): 2,\n",
    "    ((1, 2, 0), (0, 2, 4)): 4,\n",
    "    ((0, 2, 1), (0, 2, 4)): 0,\n",
    "    ((2, 0, 1), (0, 2, 4)): 2,\n",
    "    ((2, 1, 0), (0, 2, 4)): 4,\n",
    "    # from_diag_best_path_type = 19\n",
    "    # from_left_best_path_type == 1\n",
    "    # and from_up_best_path_type == 3\n",
    "    # 3-way ties\n",
    "    ((0, 0, 0), (19, 1, 3)): 24,\n",
    "    # 2-way ties for low\n",
    "    ((0, 0, 2), (19, 1, 3)): 20,\n",
    "    ((0, 2, 0), (19, 1, 3)): 22,\n",
    "    ((2, 0, 0), (19, 1, 3)): 5,\n",
    "    # 2-way ties for high\n",
    "    ((0, 1, 1), (19, 1, 3)): 19,\n",
    "    ((1, 0, 1), (19, 1, 3)): 1,\n",
    "    ((1, 1, 0), (19, 1, 3)): 3,\n",
    "    # no ties\n",
    "    ((0, 1, 2), (19, 1, 3)): 19,\n",
    "    ((1, 0, 2), (19, 1, 3)): 1,\n",
    "    ((1, 2, 0), (19, 1, 3)): 3,\n",
    "    ((0, 2, 1), (19, 1, 3)): 19,\n",
    "    ((2, 0, 1), (19, 1, 3)): 1,\n",
    "    ((2, 1, 0), (19, 1, 3)): 3,\n",
    "    # from_left_best_path_type == 1\n",
    "    # and from_up_best_path_type == 4\n",
    "    # 3-way ties\n",
    "    ((0, 0, 0), (19, 1, 4)): 25,\n",
    "    # 2-way ties for low\n",
    "    ((0, 0, 2), (19, 1, 4)): 20,\n",
    "    ((0, 2, 0), (19, 1, 4)): 23,\n",
    "    ((2, 0, 0), (19, 1, 4)): 6,\n",
    "    # 2-way ties for high\n",
    "    ((0, 1, 1), (19, 1, 4)): 19,\n",
    "    ((1, 0, 1), (19, 1, 4)): 1,\n",
    "    ((1, 1, 0), (19, 1, 4)): 4,\n",
    "    # no ties\n",
    "    ((0, 1, 2), (19, 1, 4)): 19,\n",
    "    ((1, 0, 2), (19, 1, 4)): 1,\n",
    "    ((1, 2, 0), (19, 1, 4)): 4,\n",
    "    ((0, 2, 1), (19, 1, 4)): 19,\n",
    "    ((2, 0, 1), (19, 1, 4)): 1,\n",
    "    ((2, 1, 0), (19, 1, 4)): 4,\n",
    "    # from_left_best_path_type == 2\n",
    "    # and from_up_best_path_type == 3\n",
    "    # 3-way ties\n",
    "    ((0, 0, 0), (19, 2, 3)): 26,\n",
    "    # 2-way ties for low\n",
    "    ((0, 0, 2), (19, 2, 3)): 21,\n",
    "    ((0, 2, 0), (19, 2, 3)): 22,\n",
    "    ((2, 0, 0), (19, 2, 3)): 7,\n",
    "    # 2-way ties for high\n",
    "    ((0, 1, 1), (19, 2, 3)): 19,\n",
    "    ((1, 0, 1), (19, 2, 3)): 2,\n",
    "    ((1, 1, 0), (19, 2, 3)): 3,\n",
    "    # no ties\n",
    "    ((0, 1, 2), (19, 2, 3)): 19,\n",
    "    ((1, 0, 2), (19, 2, 3)): 2,\n",
    "    ((1, 2, 0), (19, 2, 3)): 3,\n",
    "    ((0, 2, 1), (19, 2, 3)): 19,\n",
    "    ((2, 0, 1), (19, 2, 3)): 2,\n",
    "    ((2, 1, 0), (19, 2, 3)): 3,\n",
    "    # from_left_best_path_type == 2\n",
    "    # and from_up_best_path_type == 4\n",
    "    # 3-way ties\n",
    "    ((0, 0, 0), (19, 2, 4)): 27,\n",
    "    # 2-way ties for low\n",
    "    ((0, 0, 2), (19, 2, 4)): 21,\n",
    "    ((0, 2, 0), (19, 2, 4)): 23,\n",
    "    ((2, 0, 0), (19, 2, 4)): 8,\n",
    "    # 2-way ties for high\n",
    "    ((0, 1, 1), (19, 2, 4)): 19,\n",
    "    ((1, 0, 1), (19, 2, 4)): 2,\n",
    "    ((1, 1, 0), (19, 2, 4)): 4,\n",
    "    # no ties\n",
    "    ((0, 1, 2), (19, 2, 4)): 19,\n",
    "    ((1, 0, 2), (19, 2, 4)): 2,\n",
    "    ((1, 2, 0), (19, 2, 4)): 4,\n",
    "    ((0, 2, 1), (19, 2, 4)): 19,\n",
    "    ((2, 0, 1), (19, 2, 4)): 2,\n",
    "    ((2, 1, 0), (19, 2, 4)): 4\n",
    "}"
   ]
  },
  {
   "cell_type": "code",
   "execution_count": null,
   "metadata": {},
   "outputs": [],
   "source": [
    "partial_dp_mat, cur_cell_best_cum_cost, best_paths_mat = ga.warmup_align_2(\n",
    "    seq_1=seq_1,\n",
    "    seq_2=seq_2,\n",
    "    best_paths_mat=best_paths_mat,\n",
    "    partial_dp_mat=partial_dp_mat,\n",
    "    gap_open_cost=gap_open_cost,\n",
    "    cost_mat=cost_mat,\n",
    "    moves_for_gap_open_penalty_from_left=moves_for_gap_open_penalty_from_left,\n",
    "    moves_for_gap_open_penalty_from_up=moves_for_gap_open_penalty_from_up,\n",
    "    situation_mapper=situation_mapper\n",
    ")"
   ]
  },
  {
   "cell_type": "code",
   "execution_count": null,
   "metadata": {},
   "outputs": [],
   "source": [
    "partial_dp_mat"
   ]
  },
  {
   "cell_type": "code",
   "execution_count": null,
   "metadata": {},
   "outputs": [],
   "source": [
    "partial_dp_mat, cur_cell_best_cum_cost, best_paths_mat = ga.do_core_align_2(\n",
    "    seq_1=seq_1,\n",
    "    seq_2=seq_2,\n",
    "    best_paths_mat=best_paths_mat,\n",
    "    partial_dp_mat=partial_dp_mat,\n",
    "    gap_open_cost=gap_open_cost,\n",
    "    cost_mat=cost_mat,\n",
    "    moves_for_gap_open_penalty_from_left=moves_for_gap_open_penalty_from_left,\n",
    "    moves_for_gap_open_penalty_from_up=moves_for_gap_open_penalty_from_up,\n",
    "    situation_mapper=situation_mapper\n",
    ")"
   ]
  },
  {
   "cell_type": "code",
   "execution_count": null,
   "metadata": {},
   "outputs": [],
   "source": [
    "print(best_paths_mat)"
   ]
  },
  {
   "cell_type": "code",
   "execution_count": null,
   "metadata": {},
   "outputs": [],
   "source": [
    "partial_dp_mat"
   ]
  },
  {
   "cell_type": "code",
   "execution_count": null,
   "metadata": {},
   "outputs": [],
   "source": [
    "cur_cell_best_cum_cost"
   ]
  },
  {
   "cell_type": "code",
   "execution_count": null,
   "metadata": {},
   "outputs": [],
   "source": [
    "ga.final_cost_to_score(\n",
    "    cost=cur_cell_best_cum_cost,\n",
    "    m=len(seq_1),\n",
    "    n=len(seq_2),\n",
    "    max_score=ncbi_match_score\n",
    ")"
   ]
  },
  {
   "cell_type": "code",
   "execution_count": null,
   "metadata": {},
   "outputs": [],
   "source": [
    "ga.final_score_to_cost(\n",
    "    score=-23,\n",
    "    m=len(seq_1),\n",
    "    n=len(seq_2),\n",
    "    max_score=ncbi_match_score\n",
    ")"
   ]
  },
  {
   "cell_type": "code",
   "execution_count": null,
   "metadata": {},
   "outputs": [],
   "source": [
    "best_paths_mat"
   ]
  },
  {
   "cell_type": "code",
   "execution_count": null,
   "metadata": {},
   "outputs": [],
   "source": [
    "partial_dp_mat"
   ]
  },
  {
   "cell_type": "code",
   "execution_count": null,
   "metadata": {},
   "outputs": [],
   "source": [
    "seq_1_aligned, middle_part, seq_2_aligned = ga.traceback_2(\n",
    "    best_paths_mat=best_paths_mat,\n",
    "    seq_1=seq_1,\n",
    "    seq_2=seq_2, \n",
    ")\n",
    "\n",
    "print(seq_1_aligned)\n",
    "print(middle_part)\n",
    "print(seq_2_aligned)"
   ]
  },
  {
   "cell_type": "code",
   "execution_count": null,
   "metadata": {},
   "outputs": [],
   "source": [
    "# seq_1 = \"CATGGG\"\n",
    "# seq_1 = \"C\"\n",
    "# seq_2 = \"ACTG\"\n",
    "# seq_2 = \"TATT\"\n",
    "# seq_1 = \"ACACAACTAGTGCTACGTAT\"\n",
    "# seq_2 = \"T\"\n",
    "# seq_1 = \"TC\"\n",
    "# seq_2 = \"T\"\n",
    "# seq_1 = \"GTCAGCAT\"\n",
    "# seq_2 = \"CTCTGAACACG\"\n",
    "# seq_1 = \"CGCCTC\"\n",
    "# seq_2 = \"GTCG\"\n",
    "# seq_1 = \"CGCCT\"\n",
    "# seq_2 = \"GTCG\"\n",
    "# seq_1 = \"CATGGG\"\n",
    "# seq_2 = \"ACTG\"\n",
    "dynamic_prog_num_rows = len(seq_1) + 1\n",
    "dynamic_prog_num_cols = len(seq_2) + 1"
   ]
  },
  {
   "cell_type": "code",
   "execution_count": null,
   "metadata": {},
   "outputs": [],
   "source": [
    "alignment = ga.align(\n",
    "    seq_1=seq_1,\n",
    "    seq_2=seq_2,\n",
    "    scoring_mat=scoring_mat,\n",
    "    gap_existence_cost=gap_existence_cost\n",
    ")\n",
    "ga.print_alignment(\n",
    "    *alignment,\n",
    "    chars_per_line=70\n",
    ")"
   ]
  },
  {
   "cell_type": "code",
   "execution_count": null,
   "metadata": {},
   "outputs": [],
   "source": [
    "best_paths_mat = [[1, 1, 1, 1, 1], [2, 0, 1, 0, 0], [2, 0, 0, 1, 0], [2, 0, 0, 0, 1], [2, 2, 0, 0, 0], [2, 2, 0, 2, 0], [2, 2, 2, 0, 2]]\n",
    "best_paths_mat"
   ]
  },
  {
   "cell_type": "code",
   "execution_count": null,
   "metadata": {},
   "outputs": [],
   "source": [
    "alignment = ga.traceback(\n",
    "    best_paths_mat=best_paths_mat,\n",
    "    seq_1=seq_1,\n",
    "    seq_2=seq_2\n",
    ")\n",
    "ga.print_alignment(*alignment)"
   ]
  }
 ],
 "metadata": {
  "kernelspec": {
   "display_name": "globalign",
   "language": "python",
   "name": "python3"
  },
  "language_info": {
   "codemirror_mode": {
    "name": "ipython",
    "version": 3
   },
   "file_extension": ".py",
   "mimetype": "text/x-python",
   "name": "python",
   "nbconvert_exporter": "python",
   "pygments_lexer": "ipython3",
   "version": "3.11.3"
  }
 },
 "nbformat": 4,
 "nbformat_minor": 2
}
