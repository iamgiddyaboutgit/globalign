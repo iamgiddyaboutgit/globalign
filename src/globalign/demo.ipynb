{
 "cells": [
  {
   "cell_type": "code",
   "execution_count": 1,
   "metadata": {},
   "outputs": [],
   "source": [
    "import globalign as ga\n",
    "import itertools\n",
    "import random\n",
    "from typing import NamedTuple\n",
    "from pprint import pprint"
   ]
  },
  {
   "cell_type": "code",
   "execution_count": 26,
   "metadata": {},
   "outputs": [
    {
     "name": "stdout",
     "output_type": "stream",
     "text": [
      "[0, 1, 1, 2, 3, 5, 8, 13, 21, 34, 55]\n"
     ]
    }
   ],
   "source": [
    "def fib_matrix(n):\n",
    "    fibs = [0, 1]\n",
    "    for i in range(2, n+1):\n",
    "        fibs.append(fibs[-1] + fibs[-2])\n",
    "    return fibs\n",
    "\n",
    "# Pure functional style:\n",
    "from functools import reduce\n",
    "def fib_matrix_pure(n):\n",
    "    def step(acc, _):\n",
    "        return acc + [acc[-1] + acc[-2]]\n",
    "    return reduce(step, range(n-1), [0, 1])\n",
    "\n",
    "print(fib_matrix_pure(10))"
   ]
  },
  {
   "cell_type": "code",
   "execution_count": 28,
   "metadata": {},
   "outputs": [
    {
     "name": "stdout",
     "output_type": "stream",
     "text": [
      "3.43 μs ± 128 ns per loop (mean ± std. dev. of 7 runs, 100,000 loops each)\n"
     ]
    }
   ],
   "source": [
    "%%timeit\n",
    "fib_matrix(10)"
   ]
  },
  {
   "cell_type": "code",
   "execution_count": 29,
   "metadata": {},
   "outputs": [
    {
     "name": "stdout",
     "output_type": "stream",
     "text": [
      "7.04 μs ± 105 ns per loop (mean ± std. dev. of 7 runs, 100,000 loops each)\n"
     ]
    }
   ],
   "source": [
    "%%timeit\n",
    "fib_matrix_pure(10)"
   ]
  },
  {
   "cell_type": "code",
   "execution_count": 2,
   "metadata": {},
   "outputs": [],
   "source": [
    "ncbi_match_score = 1\n",
    "ncbi_mismatch_score = -2\n",
    "gap_open_cost = 1\n",
    "ncbi_gap_extension_score = -2\n",
    "scoring_mat = {\n",
    "    \"A\": {\"A\": ncbi_match_score, \"C\": ncbi_mismatch_score, \"G\": ncbi_mismatch_score, \"T\": ncbi_mismatch_score, \"-\": ncbi_gap_extension_score},\n",
    "    \"C\": {\"A\": ncbi_mismatch_score, \"C\": ncbi_match_score, \"G\": ncbi_mismatch_score, \"T\": ncbi_mismatch_score, \"-\": ncbi_gap_extension_score},\n",
    "    \"G\": {\"A\": ncbi_mismatch_score, \"C\": ncbi_mismatch_score, \"G\": ncbi_match_score, \"T\": ncbi_mismatch_score, \"-\": ncbi_gap_extension_score},\n",
    "    \"T\": {\"A\": ncbi_mismatch_score, \"C\": ncbi_mismatch_score, \"G\": ncbi_mismatch_score, \"T\": ncbi_match_score, \"-\": ncbi_gap_extension_score},\n",
    "    \"-\": {\"A\": ncbi_gap_extension_score, \"C\": ncbi_gap_extension_score, \"G\": ncbi_gap_extension_score, \"T\": ncbi_gap_extension_score, \"-\": ncbi_match_score},\n",
    "}"
   ]
  },
  {
   "cell_type": "code",
   "execution_count": 3,
   "metadata": {},
   "outputs": [
    {
     "name": "stdout",
     "output_type": "stream",
     "text": [
      "{'-': {'-': 1, 'A': -2, 'C': -2, 'G': -2, 'T': -2},\n",
      " 'A': {'-': -2, 'A': 1, 'C': -2, 'G': -2, 'T': -2},\n",
      " 'C': {'-': -2, 'A': -2, 'C': 1, 'G': -2, 'T': -2},\n",
      " 'G': {'-': -2, 'A': -2, 'C': -2, 'G': 1, 'T': -2},\n",
      " 'T': {'-': -2, 'A': -2, 'C': -2, 'G': -2, 'T': 1}}\n"
     ]
    }
   ],
   "source": [
    "pprint(scoring_mat)"
   ]
  },
  {
   "cell_type": "code",
   "execution_count": 4,
   "metadata": {},
   "outputs": [
    {
     "data": {
      "text/plain": [
       "{'A': {'A': 0, 'C': 3, 'G': 3, 'T': 3, '-': 3},\n",
       " 'C': {'A': 3, 'C': 0, 'G': 3, 'T': 3, '-': 3},\n",
       " 'G': {'A': 3, 'C': 3, 'G': 0, 'T': 3, '-': 3},\n",
       " 'T': {'A': 3, 'C': 3, 'G': 3, 'T': 0, '-': 3},\n",
       " '-': {'A': 2, 'C': 2, 'G': 2, 'T': 2, '-': 0}}"
      ]
     },
     "execution_count": 4,
     "metadata": {},
     "output_type": "execute_result"
    }
   ],
   "source": [
    "max_score = ga.get_max_similarity_score(scoring_mat=scoring_mat)\n",
    "cost_mat = ga.get_cost_mat(\n",
    "    scoring_mat=scoring_mat,\n",
    "    max_score=max_score\n",
    ")\n",
    "cost_mat"
   ]
  },
  {
   "cell_type": "code",
   "execution_count": 5,
   "metadata": {},
   "outputs": [],
   "source": [
    "seq_1 = \"GGAGGA\"\n",
    "seq_2 = \"GAG\"\n",
    "dp_array = ga.make_dp_array(\n",
    "    seq_1=seq_1,\n",
    "    seq_2=seq_2,\n",
    "    cost_mat=cost_mat,\n",
    "    gap_open_cost=gap_open_cost\n",
    ")\n"
   ]
  },
  {
   "cell_type": "code",
   "execution_count": 6,
   "metadata": {},
   "outputs": [],
   "source": [
    "# Loop through the dp_array and write the\n",
    "# best costs to get to each position.\n",
    "dp_array_2 = ga.dp_array_forward(\n",
    "    dp_array=dp_array,\n",
    "    seq_1=seq_1,\n",
    "    seq_2=seq_2,\n",
    "    cost_mat=cost_mat,\n",
    "    gap_open_cost=gap_open_cost\n",
    ")\n"
   ]
  },
  {
   "cell_type": "code",
   "execution_count": 22,
   "metadata": {},
   "outputs": [],
   "source": [
    "dp_array[1][1] = (0, 7, 7)\n",
    "dp_array[1][2] = (6, 3, 9)\n",
    "dp_array[1][3] = (5, 5, 11)\n",
    "dp_array[2][1] = (4, 10, 4)"
   ]
  },
  {
   "cell_type": "code",
   "execution_count": 23,
   "metadata": {},
   "outputs": [
    {
     "data": {
      "text/plain": [
       "[[[0, 0, 0], [inf, 3, inf], [inf, 5, inf], [inf, 7, inf]],\n",
       " [[inf, inf, 4], (0, 7, 7), (6, 3, 9), (5, 5, 11)],\n",
       " [[inf, inf, 7], (4, 10, 4), [0, 0, 0], [0, 0, 0]],\n",
       " [[inf, inf, 10], [0, 0, 0], [0, 0, 0], [0, 0, 0]],\n",
       " [[inf, inf, 13], [0, 0, 0], [0, 0, 0], [0, 0, 0]],\n",
       " [[inf, inf, 16], [0, 0, 0], [0, 0, 0], [0, 0, 0]],\n",
       " [[inf, inf, 19], [0, 0, 0], [0, 0, 0], [0, 0, 0]]]"
      ]
     },
     "execution_count": 23,
     "metadata": {},
     "output_type": "execute_result"
    }
   ],
   "source": [
    "dp_array"
   ]
  },
  {
   "cell_type": "code",
   "execution_count": 24,
   "metadata": {},
   "outputs": [
    {
     "data": {
      "text/plain": [
       "(3, 7, 7)"
      ]
     },
     "execution_count": 24,
     "metadata": {},
     "output_type": "execute_result"
    }
   ],
   "source": [
    "ga.get_next_best_costs(\n",
    "    dp_array=dp_array,\n",
    "    i=2,\n",
    "    j=2,\n",
    "    seq_1=seq_1,\n",
    "    seq_2=seq_2,\n",
    "    cost_mat=cost_mat,\n",
    "    gap_open_cost=gap_open_cost\n",
    ")"
   ]
  },
  {
   "cell_type": "code",
   "execution_count": null,
   "metadata": {},
   "outputs": [],
   "source": [
    "ga.print_nested_list_aligned(dp_array_2)"
   ]
  },
  {
   "cell_type": "code",
   "execution_count": null,
   "metadata": {},
   "outputs": [],
   "source": [
    "\n",
    "ga.dp_array_backward(\n",
    "    dp_array=dp_array,\n",
    "    seq_1=seq_1,\n",
    "    seq_2=seq_2,\n",
    "    cost_mat=cost_mat,\n",
    "    gap_open_cost=gap_open_cost\n",
    ")"
   ]
  },
  {
   "cell_type": "code",
   "execution_count": null,
   "metadata": {},
   "outputs": [],
   "source": [
    "\n",
    "alignment = ga.find_global_alignment(\n",
    "    seq_1=seq_1,\n",
    "    seq_2=seq_2,\n",
    "    cost_mat=cost_mat,\n",
    "    gap_open_cost=gap_open_cost\n",
    ")\n",
    "score = ga.final_cost_to_score(\n",
    "    cost=alignment[\"cost\"],\n",
    "    m=len(seq_1),\n",
    "    n=len(seq_2),\n",
    "    max_score=max_score\n",
    ")\n",
    "\n",
    "ga.print_alignment(\n",
    "    seq_1_aligned=alignment[\"seq_1_aligned\"],\n",
    "    mid=alignment[\"middle_part\"],\n",
    "    seq_2_aligned=alignment[\"seq_2_aligned\"],\n",
    "    score=score\n",
    ")"
   ]
  },
  {
   "cell_type": "code",
   "execution_count": null,
   "metadata": {},
   "outputs": [],
   "source": [
    "seq_1, seq_2 = ga.draw_two_random_seqs(\n",
    "    alphabet=[\"A\", \"C\", 'G', \"T\"],\n",
    "    min_len_seq_1=2,\n",
    "    width_required_seq_1=10,\n",
    "    min_len_seq_2=2,\n",
    "    width_required_seq_2=10,\n",
    "    divergence=0.9\n",
    ")\n",
    "\n",
    "seq_1 = \"GTAGGCGGTC\"\n",
    "seq_2 = \"CAGCTGC\"\n",
    "print(seq_1)\n",
    "print(seq_2)\n",
    "seq_1_aligned_out, middle_part_out, seq_2_aligned_out, cost = ga.find_global_alignment(\n",
    "    seq_1=seq_1,\n",
    "    seq_2=seq_2,\n",
    "    cost_mat=cost_mat,\n",
    "    gap_open_cost=gap_open_cost\n",
    ")\n",
    "print(seq_1_aligned_out)\n",
    "print(middle_part_out)\n",
    "print(seq_2_aligned_out)\n",
    "print(cost)\n",
    "print(ga.final_cost_to_score(\n",
    "    cost=cost,\n",
    "    m=len(seq_1),\n",
    "    n=len(seq_2),\n",
    "    max_score=ncbi_match_score\n",
    "))"
   ]
  },
  {
   "cell_type": "code",
   "execution_count": null,
   "metadata": {},
   "outputs": [],
   "source": [
    "best_paths_mat = [\n",
    "    [\n",
    "        [10, 8, 4, 4],\n",
    "        [0, 1, 8, 4],\n",
    "        [0, 1, 1, 12],\n",
    "        [0, 1, 1, 8],\n",
    "        [0, 1, 1, 12],\n",
    "        [0, 1, 1, 1],\n",
    "        [0, 1, 1, 8]\n",
    "    ],\n",
    "    [\n",
    "        [10, 4, 4, 4],\n",
    "        [9, 5, 5, 5],\n",
    "        [9, 9, 5, 5],\n",
    "        [9, 0, 13, 9],\n",
    "        [9, 0, 0, 13],\n",
    "        [9, 0, 0, 9],\n",
    "        [9, 0, 0, 0]\n",
    "    ],\n",
    "    [\n",
    "        [10, 4, 4, 4],\n",
    "        [0, 10, 7, 6],\n",
    "        [0, 2, 11, 6],\n",
    "        [0, 3, 2, 15],\n",
    "        [0, 2, 3, 10],\n",
    "        [0, 2, 11, 14],\n",
    "        [0, 3, 10, 15]\n",
    "    ]\n",
    "]\n",
    "\n",
    "ga.traceback_3(\n",
    "    best_paths_mat=best_paths_mat,\n",
    "    h_start=1,\n",
    "    seq_1=seq_1,\n",
    "    seq_2=seq_2\n",
    ")"
   ]
  },
  {
   "cell_type": "code",
   "execution_count": null,
   "metadata": {},
   "outputs": [],
   "source": [
    "print(ga.final_cost_to_score(\n",
    "    cost=19,\n",
    "    # m=len(seq_1),\n",
    "    # n=len(seq_2),\n",
    "    m=6,\n",
    "    n=3,\n",
    "    max_score=ncbi_match_score\n",
    "))"
   ]
  },
  {
   "cell_type": "code",
   "execution_count": null,
   "metadata": {},
   "outputs": [],
   "source": [
    "ga.final_score_to_cost(\n",
    "    score=-14,\n",
    "    m=len(seq_1),\n",
    "    n=len(seq_2),\n",
    "    max_score=ncbi_match_score\n",
    ")"
   ]
  },
  {
   "cell_type": "code",
   "execution_count": null,
   "metadata": {},
   "outputs": [],
   "source": [
    "middle_row_index = len(seq_1)\n",
    "best_paths_mat = ga.init_best_paths_matrix(\n",
    "    dynamic_prog_num_rows=middle_row_index + 1,\n",
    "    dynamic_prog_num_cols=len(seq_2) + 1\n",
    ")\n",
    "best_paths_mat"
   ]
  },
  {
   "cell_type": "code",
   "execution_count": null,
   "metadata": {},
   "outputs": [],
   "source": [
    "dynamic_prog_num_cols = len(seq_2) + 1\n",
    "partial_dp_mat = ga.init_partial_dynamic_prog_matrix_2(\n",
    "    seq_1=seq_1,\n",
    "    seq_2=seq_2,\n",
    "    cost_mat=cost_mat,\n",
    "    gap_open_cost=gap_open_cost,\n",
    "    dynamic_prog_num_cols=dynamic_prog_num_cols\n",
    ")\n",
    "partial_dp_mat"
   ]
  },
  {
   "cell_type": "code",
   "execution_count": null,
   "metadata": {},
   "outputs": [],
   "source": [
    "moves_for_gap_open_penalty_from_left = {0, 3, 4, 11, 12, 14, 19, 22, 23}\n",
    "moves_for_gap_open_penalty_from_up = {0, 1, 2, 9, 10, 13, 19, 20, 21}\n",
    "situation_mapper={\n",
    "    # from_diag_best_path_type = 0\n",
    "    # from_left_best_path_type == 1\n",
    "    # and from_up_best_path_type == 3\n",
    "    # 3-way ties\n",
    "    ((0, 0, 0), (0, 1, 3)): 15,\n",
    "    # 2-way ties for low\n",
    "    ((0, 0, 2), (0, 1, 3)): 9,\n",
    "    ((0, 2, 0), (0, 1, 3)): 11,\n",
    "    ((2, 0, 0), (0, 1, 3)): 5,\n",
    "    # 2-way ties for high\n",
    "    ((0, 1, 1), (0, 1, 3)): 0,\n",
    "    ((1, 0, 1), (0, 1, 3)): 1,\n",
    "    ((1, 1, 0), (0, 1, 3)): 3,\n",
    "    # no ties\n",
    "    ((0, 1, 2), (0, 1, 3)): 0,\n",
    "    ((1, 0, 2), (0, 1, 3)): 1,\n",
    "    ((1, 2, 0), (0, 1, 3)): 3,\n",
    "    ((0, 2, 1), (0, 1, 3)): 0,\n",
    "    ((2, 0, 1), (0, 1, 3)): 1,\n",
    "    ((2, 1, 0), (0, 1, 3)): 3,\n",
    "    # from_left_best_path_type == 1\n",
    "    # and from_up_best_path_type == 4\n",
    "    # 3-way ties\n",
    "    ((0, 0, 0), (0, 1, 4)): 16,\n",
    "    # 2-way ties for low\n",
    "    ((0, 0, 2), (0, 1, 4)): 9,\n",
    "    ((0, 2, 0), (0, 1, 4)): 12,\n",
    "    ((2, 0, 0), (0, 1, 4)): 6,\n",
    "    # 2-way ties for high\n",
    "    ((0, 1, 1), (0, 1, 4)): 0,\n",
    "    ((1, 0, 1), (0, 1, 4)): 1,\n",
    "    ((1, 1, 0), (0, 1, 4)): 4,\n",
    "    # no ties\n",
    "    ((0, 1, 2), (0, 1, 4)): 0,\n",
    "    ((1, 0, 2), (0, 1, 4)): 1,\n",
    "    ((1, 2, 0), (0, 1, 4)): 4,\n",
    "    ((0, 2, 1), (0, 1, 4)): 0,\n",
    "    ((2, 0, 1), (0, 1, 4)): 1,\n",
    "    ((2, 1, 0), (0, 1, 4)): 4,\n",
    "    # from_left_best_path_type == 2\n",
    "    # and from_up_best_path_type == 3\n",
    "    # 3-way ties\n",
    "    ((0, 0, 0), (0, 2, 3)): 17,\n",
    "    # 2-way ties for low\n",
    "    ((0, 0, 2), (0, 2, 3)): 10,\n",
    "    ((0, 2, 0), (0, 2, 3)): 11,\n",
    "    ((2, 0, 0), (0, 2, 3)): 7,\n",
    "    # 2-way ties for high\n",
    "    ((0, 1, 1), (0, 2, 3)): 0,\n",
    "    ((1, 0, 1), (0, 2, 3)): 2,\n",
    "    ((1, 1, 0), (0, 2, 3)): 3,\n",
    "    # no ties\n",
    "    ((0, 1, 2), (0, 2, 3)): 0,\n",
    "    ((1, 0, 2), (0, 2, 3)): 2,\n",
    "    ((1, 2, 0), (0, 2, 3)): 3,\n",
    "    ((0, 2, 1), (0, 2, 3)): 0,\n",
    "    ((2, 0, 1), (0, 2, 3)): 2,\n",
    "    ((2, 1, 0), (0, 2, 3)): 3,\n",
    "    # from_left_best_path_type == 2\n",
    "    # and from_up_best_path_type == 4\n",
    "    # 3-way ties\n",
    "    ((0, 0, 0), (0, 2, 4)): 18,\n",
    "    # 2-way ties for low\n",
    "    ((0, 0, 2), (0, 2, 4)): 10,\n",
    "    ((0, 2, 0), (0, 2, 4)): 12,\n",
    "    ((2, 0, 0), (0, 2, 4)): 8,\n",
    "    # 2-way ties for high\n",
    "    ((0, 1, 1), (0, 2, 4)): 0,\n",
    "    ((1, 0, 1), (0, 2, 4)): 2,\n",
    "    ((1, 1, 0), (0, 2, 4)): 4,\n",
    "    # no ties\n",
    "    ((0, 1, 2), (0, 2, 4)): 0,\n",
    "    ((1, 0, 2), (0, 2, 4)): 2,\n",
    "    ((1, 2, 0), (0, 2, 4)): 4,\n",
    "    ((0, 2, 1), (0, 2, 4)): 0,\n",
    "    ((2, 0, 1), (0, 2, 4)): 2,\n",
    "    ((2, 1, 0), (0, 2, 4)): 4,\n",
    "    # from_diag_best_path_type = 19\n",
    "    # from_left_best_path_type == 1\n",
    "    # and from_up_best_path_type == 3\n",
    "    # 3-way ties\n",
    "    ((0, 0, 0), (19, 1, 3)): 24,\n",
    "    # 2-way ties for low\n",
    "    ((0, 0, 2), (19, 1, 3)): 20,\n",
    "    ((0, 2, 0), (19, 1, 3)): 22,\n",
    "    ((2, 0, 0), (19, 1, 3)): 5,\n",
    "    # 2-way ties for high\n",
    "    ((0, 1, 1), (19, 1, 3)): 19,\n",
    "    ((1, 0, 1), (19, 1, 3)): 1,\n",
    "    ((1, 1, 0), (19, 1, 3)): 3,\n",
    "    # no ties\n",
    "    ((0, 1, 2), (19, 1, 3)): 19,\n",
    "    ((1, 0, 2), (19, 1, 3)): 1,\n",
    "    ((1, 2, 0), (19, 1, 3)): 3,\n",
    "    ((0, 2, 1), (19, 1, 3)): 19,\n",
    "    ((2, 0, 1), (19, 1, 3)): 1,\n",
    "    ((2, 1, 0), (19, 1, 3)): 3,\n",
    "    # from_left_best_path_type == 1\n",
    "    # and from_up_best_path_type == 4\n",
    "    # 3-way ties\n",
    "    ((0, 0, 0), (19, 1, 4)): 25,\n",
    "    # 2-way ties for low\n",
    "    ((0, 0, 2), (19, 1, 4)): 20,\n",
    "    ((0, 2, 0), (19, 1, 4)): 23,\n",
    "    ((2, 0, 0), (19, 1, 4)): 6,\n",
    "    # 2-way ties for high\n",
    "    ((0, 1, 1), (19, 1, 4)): 19,\n",
    "    ((1, 0, 1), (19, 1, 4)): 1,\n",
    "    ((1, 1, 0), (19, 1, 4)): 4,\n",
    "    # no ties\n",
    "    ((0, 1, 2), (19, 1, 4)): 19,\n",
    "    ((1, 0, 2), (19, 1, 4)): 1,\n",
    "    ((1, 2, 0), (19, 1, 4)): 4,\n",
    "    ((0, 2, 1), (19, 1, 4)): 19,\n",
    "    ((2, 0, 1), (19, 1, 4)): 1,\n",
    "    ((2, 1, 0), (19, 1, 4)): 4,\n",
    "    # from_left_best_path_type == 2\n",
    "    # and from_up_best_path_type == 3\n",
    "    # 3-way ties\n",
    "    ((0, 0, 0), (19, 2, 3)): 26,\n",
    "    # 2-way ties for low\n",
    "    ((0, 0, 2), (19, 2, 3)): 21,\n",
    "    ((0, 2, 0), (19, 2, 3)): 22,\n",
    "    ((2, 0, 0), (19, 2, 3)): 7,\n",
    "    # 2-way ties for high\n",
    "    ((0, 1, 1), (19, 2, 3)): 19,\n",
    "    ((1, 0, 1), (19, 2, 3)): 2,\n",
    "    ((1, 1, 0), (19, 2, 3)): 3,\n",
    "    # no ties\n",
    "    ((0, 1, 2), (19, 2, 3)): 19,\n",
    "    ((1, 0, 2), (19, 2, 3)): 2,\n",
    "    ((1, 2, 0), (19, 2, 3)): 3,\n",
    "    ((0, 2, 1), (19, 2, 3)): 19,\n",
    "    ((2, 0, 1), (19, 2, 3)): 2,\n",
    "    ((2, 1, 0), (19, 2, 3)): 3,\n",
    "    # from_left_best_path_type == 2\n",
    "    # and from_up_best_path_type == 4\n",
    "    # 3-way ties\n",
    "    ((0, 0, 0), (19, 2, 4)): 27,\n",
    "    # 2-way ties for low\n",
    "    ((0, 0, 2), (19, 2, 4)): 21,\n",
    "    ((0, 2, 0), (19, 2, 4)): 23,\n",
    "    ((2, 0, 0), (19, 2, 4)): 8,\n",
    "    # 2-way ties for high\n",
    "    ((0, 1, 1), (19, 2, 4)): 19,\n",
    "    ((1, 0, 1), (19, 2, 4)): 2,\n",
    "    ((1, 1, 0), (19, 2, 4)): 4,\n",
    "    # no ties\n",
    "    ((0, 1, 2), (19, 2, 4)): 19,\n",
    "    ((1, 0, 2), (19, 2, 4)): 2,\n",
    "    ((1, 2, 0), (19, 2, 4)): 4,\n",
    "    ((0, 2, 1), (19, 2, 4)): 19,\n",
    "    ((2, 0, 1), (19, 2, 4)): 2,\n",
    "    ((2, 1, 0), (19, 2, 4)): 4\n",
    "}"
   ]
  },
  {
   "cell_type": "code",
   "execution_count": null,
   "metadata": {},
   "outputs": [],
   "source": [
    "partial_dp_mat, cur_cell_best_cum_cost, best_paths_mat = ga.warmup_align_2(\n",
    "    seq_1=seq_1,\n",
    "    seq_2=seq_2,\n",
    "    best_paths_mat=best_paths_mat,\n",
    "    partial_dp_mat=partial_dp_mat,\n",
    "    gap_open_cost=gap_open_cost,\n",
    "    cost_mat=cost_mat,\n",
    "    moves_for_gap_open_penalty_from_left=moves_for_gap_open_penalty_from_left,\n",
    "    moves_for_gap_open_penalty_from_up=moves_for_gap_open_penalty_from_up,\n",
    "    situation_mapper=situation_mapper\n",
    ")"
   ]
  },
  {
   "cell_type": "code",
   "execution_count": null,
   "metadata": {},
   "outputs": [],
   "source": [
    "partial_dp_mat"
   ]
  },
  {
   "cell_type": "code",
   "execution_count": null,
   "metadata": {},
   "outputs": [],
   "source": [
    "partial_dp_mat, cur_cell_best_cum_cost, best_paths_mat = ga.do_core_align_2(\n",
    "    seq_1=seq_1,\n",
    "    seq_2=seq_2,\n",
    "    best_paths_mat=best_paths_mat,\n",
    "    partial_dp_mat=partial_dp_mat,\n",
    "    gap_open_cost=gap_open_cost,\n",
    "    cost_mat=cost_mat,\n",
    "    moves_for_gap_open_penalty_from_left=moves_for_gap_open_penalty_from_left,\n",
    "    moves_for_gap_open_penalty_from_up=moves_for_gap_open_penalty_from_up,\n",
    "    situation_mapper=situation_mapper\n",
    ")"
   ]
  },
  {
   "cell_type": "code",
   "execution_count": null,
   "metadata": {},
   "outputs": [],
   "source": [
    "print(best_paths_mat)"
   ]
  },
  {
   "cell_type": "code",
   "execution_count": null,
   "metadata": {},
   "outputs": [],
   "source": [
    "partial_dp_mat"
   ]
  },
  {
   "cell_type": "code",
   "execution_count": null,
   "metadata": {},
   "outputs": [],
   "source": [
    "cur_cell_best_cum_cost"
   ]
  },
  {
   "cell_type": "code",
   "execution_count": null,
   "metadata": {},
   "outputs": [],
   "source": [
    "ga.final_cost_to_score(\n",
    "    cost=cur_cell_best_cum_cost,\n",
    "    m=len(seq_1),\n",
    "    n=len(seq_2),\n",
    "    max_score=ncbi_match_score\n",
    ")"
   ]
  },
  {
   "cell_type": "code",
   "execution_count": null,
   "metadata": {},
   "outputs": [],
   "source": [
    "ga.final_score_to_cost(\n",
    "    score=-23,\n",
    "    m=len(seq_1),\n",
    "    n=len(seq_2),\n",
    "    max_score=ncbi_match_score\n",
    ")"
   ]
  },
  {
   "cell_type": "code",
   "execution_count": null,
   "metadata": {},
   "outputs": [],
   "source": [
    "best_paths_mat"
   ]
  },
  {
   "cell_type": "code",
   "execution_count": null,
   "metadata": {},
   "outputs": [],
   "source": [
    "partial_dp_mat"
   ]
  },
  {
   "cell_type": "code",
   "execution_count": null,
   "metadata": {},
   "outputs": [],
   "source": [
    "seq_1_aligned, middle_part, seq_2_aligned = ga.traceback_2(\n",
    "    best_paths_mat=best_paths_mat,\n",
    "    seq_1=seq_1,\n",
    "    seq_2=seq_2, \n",
    ")\n",
    "\n",
    "print(seq_1_aligned)\n",
    "print(middle_part)\n",
    "print(seq_2_aligned)"
   ]
  },
  {
   "cell_type": "code",
   "execution_count": null,
   "metadata": {},
   "outputs": [],
   "source": [
    "# seq_1 = \"CATGGG\"\n",
    "# seq_1 = \"C\"\n",
    "# seq_2 = \"ACTG\"\n",
    "# seq_2 = \"TATT\"\n",
    "# seq_1 = \"ACACAACTAGTGCTACGTAT\"\n",
    "# seq_2 = \"T\"\n",
    "# seq_1 = \"TC\"\n",
    "# seq_2 = \"T\"\n",
    "# seq_1 = \"GTCAGCAT\"\n",
    "# seq_2 = \"CTCTGAACACG\"\n",
    "# seq_1 = \"CGCCTC\"\n",
    "# seq_2 = \"GTCG\"\n",
    "# seq_1 = \"CGCCT\"\n",
    "# seq_2 = \"GTCG\"\n",
    "# seq_1 = \"CATGGG\"\n",
    "# seq_2 = \"ACTG\"\n",
    "dynamic_prog_num_rows = len(seq_1) + 1\n",
    "dynamic_prog_num_cols = len(seq_2) + 1"
   ]
  },
  {
   "cell_type": "code",
   "execution_count": null,
   "metadata": {},
   "outputs": [],
   "source": [
    "alignment = ga.align(\n",
    "    seq_1=seq_1,\n",
    "    seq_2=seq_2,\n",
    "    scoring_mat=scoring_mat,\n",
    "    gap_existence_cost=gap_existence_cost\n",
    ")\n",
    "ga.print_alignment(\n",
    "    *alignment,\n",
    "    chars_per_line=70\n",
    ")"
   ]
  },
  {
   "cell_type": "code",
   "execution_count": null,
   "metadata": {},
   "outputs": [],
   "source": [
    "best_paths_mat = [[1, 1, 1, 1, 1], [2, 0, 1, 0, 0], [2, 0, 0, 1, 0], [2, 0, 0, 0, 1], [2, 2, 0, 0, 0], [2, 2, 0, 2, 0], [2, 2, 2, 0, 2]]\n",
    "best_paths_mat"
   ]
  },
  {
   "cell_type": "code",
   "execution_count": null,
   "metadata": {},
   "outputs": [],
   "source": [
    "alignment = ga.traceback(\n",
    "    best_paths_mat=best_paths_mat,\n",
    "    seq_1=seq_1,\n",
    "    seq_2=seq_2\n",
    ")\n",
    "ga.print_alignment(*alignment)"
   ]
  }
 ],
 "metadata": {
  "kernelspec": {
   "display_name": "globalign",
   "language": "python",
   "name": "python3"
  },
  "language_info": {
   "codemirror_mode": {
    "name": "ipython",
    "version": 3
   },
   "file_extension": ".py",
   "mimetype": "text/x-python",
   "name": "python",
   "nbconvert_exporter": "python",
   "pygments_lexer": "ipython3",
   "version": "3.11.3"
  }
 },
 "nbformat": 4,
 "nbformat_minor": 2
}
